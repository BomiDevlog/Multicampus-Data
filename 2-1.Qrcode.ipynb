{
 "cells": [
  {
   "cell_type": "markdown",
   "id": "18a4de5e",
   "metadata": {},
   "source": [
    "## QRCode를 생성하는 프로그램\n",
    "\n",
    "* https://pypi.org/project/qrcode/"
   ]
  },
  {
   "cell_type": "markdown",
   "id": "001271e6",
   "metadata": {},
   "source": [
    "## 라이브러리 설치"
   ]
  },
  {
   "cell_type": "code",
   "execution_count": 17,
   "id": "2d89d3cd",
   "metadata": {},
   "outputs": [
    {
     "name": "stdout",
     "output_type": "stream",
     "text": [
      "Requirement already satisfied: qrcode in c:\\users\\pc\\appdata\\roaming\\python\\python39\\site-packages (7.3.1)\n",
      "Requirement already satisfied: colorama in c:\\users\\pc\\appdata\\roaming\\python\\python39\\site-packages (from qrcode) (0.4.5)\n",
      "Note: you may need to restart the kernel to use updated packages.\n"
     ]
    }
   ],
   "source": [
    "%pip install qrcode"
   ]
  },
  {
   "cell_type": "code",
   "execution_count": 1,
   "id": "be9841a7",
   "metadata": {},
   "outputs": [
    {
     "name": "stdout",
     "output_type": "stream",
     "text": [
      "Requirement already satisfied: qrcode[pil] in c:\\users\\pc\\appdata\\roaming\\python\\python39\\site-packages (7.3.1)\n",
      "Requirement already satisfied: colorama in c:\\users\\pc\\appdata\\roaming\\python\\python39\\site-packages (from qrcode[pil]) (0.4.5)\n",
      "Requirement already satisfied: pillow in c:\\python39\\lib\\site-packages (from qrcode[pil]) (9.2.0)\n"
     ]
    }
   ],
   "source": [
    "!pip install qrcode[pil]"
   ]
  },
  {
   "cell_type": "code",
   "execution_count": 2,
   "id": "b8519411",
   "metadata": {},
   "outputs": [
    {
     "name": "stdout",
     "output_type": "stream",
     "text": [
      "안녕하세요\n"
     ]
    }
   ],
   "source": [
    "# 주석 : 출력하는 기능\n",
    "print(\"안녕하세요\")"
   ]
  },
  {
   "cell_type": "markdown",
   "id": "12008fbe",
   "metadata": {},
   "source": [
    "텍스트모드는 에디터입니다. 메모장의 역할입니다. 그림도 넣을 수 있어요. (윈도우 시프트 s로 화면캡쳐해서 복붙해요.) URL도 넣어서 참고용으로 사용합니다. 마크다운 언어\n",
    "\n",
    "코드모드에서 작성하면 실행하는 코드입니다. 주석 # : 코드의 기능을 설명하는 것\n",
    "\n",
    "! 커맨드창에서 바로 파이썬 명령어를 실행하는 마크 % 를 써달라는 권장이 뜨기도한다.\n",
    "\n"
   ]
  },
  {
   "cell_type": "markdown",
   "id": "e598a570",
   "metadata": {},
   "source": [
    "# 라이브러리 로드"
   ]
  },
  {
   "cell_type": "code",
   "execution_count": 3,
   "id": "6337854f",
   "metadata": {},
   "outputs": [],
   "source": [
    "import qrcode"
   ]
  },
  {
   "cell_type": "code",
   "execution_count": 4,
   "id": "3cbaa410",
   "metadata": {},
   "outputs": [
    {
     "data": {
      "text/plain": [
       "['__builtins__',\n",
       " '__cached__',\n",
       " '__doc__',\n",
       " '__file__',\n",
       " '__loader__',\n",
       " '__name__',\n",
       " '__package__',\n",
       " '__spec__']"
      ]
     },
     "execution_count": 4,
     "metadata": {},
     "output_type": "execute_result"
    }
   ],
   "source": [
    "dir(qrcode)"
   ]
  },
  {
   "cell_type": "code",
   "execution_count": 5,
   "id": "99700937",
   "metadata": {},
   "outputs": [
    {
     "ename": "AttributeError",
     "evalue": "module 'qrcode' has no attribute 'make'",
     "output_type": "error",
     "traceback": [
      "\u001b[1;31m---------------------------------------------------------------------------\u001b[0m",
      "\u001b[1;31mAttributeError\u001b[0m                            Traceback (most recent call last)",
      "Cell \u001b[1;32mIn [5], line 2\u001b[0m\n\u001b[0;32m      1\u001b[0m \u001b[38;5;28;01mimport\u001b[39;00m \u001b[38;5;21;01mqrcode\u001b[39;00m\n\u001b[1;32m----> 2\u001b[0m img \u001b[38;5;241m=\u001b[39m \u001b[43mqrcode\u001b[49m\u001b[38;5;241;43m.\u001b[39;49m\u001b[43mmake\u001b[49m(\u001b[38;5;124m'\u001b[39m\u001b[38;5;124mwww.naver.com\u001b[39m\u001b[38;5;124m'\u001b[39m)\n\u001b[0;32m      3\u001b[0m img\n",
      "\u001b[1;31mAttributeError\u001b[0m: module 'qrcode' has no attribute 'make'"
     ]
    }
   ],
   "source": [
    "import qrcode\n",
    "img = qrcode.make('www.naver.com')\n",
    "img"
   ]
  },
  {
   "cell_type": "code",
   "execution_count": 31,
   "id": "f719bbe2",
   "metadata": {},
   "outputs": [
    {
     "ename": "NameError",
     "evalue": "name 'img' is not defined",
     "output_type": "error",
     "traceback": [
      "\u001b[1;31m---------------------------------------------------------------------------\u001b[0m",
      "\u001b[1;31mNameError\u001b[0m                                 Traceback (most recent call last)",
      "Cell \u001b[1;32mIn [31], line 1\u001b[0m\n\u001b[1;32m----> 1\u001b[0m \u001b[43mimg\u001b[49m\u001b[38;5;241m.\u001b[39msave(\u001b[38;5;124m\"\u001b[39m\u001b[38;5;124mnaver_qr.png\u001b[39m\u001b[38;5;124m\"\u001b[39m)\n",
      "\u001b[1;31mNameError\u001b[0m: name 'img' is not defined"
     ]
    }
   ],
   "source": [
    "img.save(\"naver_qr.png\")"
   ]
  },
  {
   "cell_type": "code",
   "execution_count": 11,
   "id": "5e338b7a",
   "metadata": {},
   "outputs": [
    {
     "name": "stdout",
     "output_type": "stream",
     "text": [
      "Requirement already satisfied: qrcode==6.1 in c:\\python39\\lib\\site-packages (6.1)\n",
      "Requirement already satisfied: six in c:\\users\\pc\\appdata\\roaming\\python\\python39\\site-packages (from qrcode==6.1) (1.16.0)\n",
      "Requirement already satisfied: colorama in c:\\users\\pc\\appdata\\roaming\\python\\python39\\site-packages (from qrcode==6.1) (0.4.5)\n"
     ]
    }
   ],
   "source": [
    "!pip install qrcode==6.1"
   ]
  },
  {
   "cell_type": "markdown",
   "id": "4f79f18b",
   "metadata": {},
   "source": [
    "참고 에러구글코랩으로는 잘되고 vs 코드로는 make 없다고 나옵니다.."
   ]
  },
  {
   "cell_type": "markdown",
   "id": "fb7b9725",
   "metadata": {},
   "source": []
  },
  {
   "cell_type": "code",
   "execution_count": 12,
   "id": "63c717bf",
   "metadata": {},
   "outputs": [],
   "source": [
    "import qrcode"
   ]
  },
  {
   "cell_type": "code",
   "execution_count": 13,
   "id": "5197251e",
   "metadata": {},
   "outputs": [
    {
     "data": {
      "text/plain": [
       "['__builtins__',\n",
       " '__cached__',\n",
       " '__doc__',\n",
       " '__file__',\n",
       " '__loader__',\n",
       " '__name__',\n",
       " '__package__',\n",
       " '__spec__']"
      ]
     },
     "execution_count": 13,
     "metadata": {},
     "output_type": "execute_result"
    }
   ],
   "source": [
    "dir(qrcode)"
   ]
  },
  {
   "cell_type": "code",
   "execution_count": null,
   "id": "fc2190b3",
   "metadata": {},
   "outputs": [],
   "source": []
  }
 ],
 "metadata": {
  "kernelspec": {
   "display_name": "Python 3.9.13 64-bit",
   "language": "python",
   "name": "python3"
  },
  "language_info": {
   "codemirror_mode": {
    "name": "ipython",
    "version": 3
   },
   "file_extension": ".py",
   "mimetype": "text/x-python",
   "name": "python",
   "nbconvert_exporter": "python",
   "pygments_lexer": "ipython3",
   "version": "3.9.13"
  },
  "vscode": {
   "interpreter": {
    "hash": "81794d4967e6c3204c66dcd87b604927b115b27c00565d3d43f05ba2f3a2cb0d"
   }
  }
 },
 "nbformat": 4,
 "nbformat_minor": 5
}
