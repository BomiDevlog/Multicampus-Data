{
 "cells": [
  {
   "cell_type": "markdown",
   "id": "18a4de5e",
   "metadata": {},
   "source": [
    "## QRCode를 생성하는 프로그램\n",
    "\n",
    "* https://pypi.org/project/qrcode/"
   ]
  },
  {
   "cell_type": "code",
   "execution_count": 1,
   "id": "be9841a7",
   "metadata": {},
   "outputs": [
    {
     "name": "stderr",
     "output_type": "stream",
     "text": [
      "\n",
      "Usage:   \n",
      "  pip install [options] <requirement specifier> [package-index-options] ...\n",
      "  pip install [options] -r <requirements file> [package-index-options] ...\n",
      "  pip install [options] [-e] <vcs project url> ...\n",
      "  pip install [options] [-e] <local project path> ...\n",
      "  pip install [options] <archive url/path> ...\n",
      "\n",
      "no such option: -u\n"
     ]
    }
   ],
   "source": [
    "!pip install -upgrade qrcode[pil]"
   ]
  },
  {
   "cell_type": "code",
   "execution_count": 2,
   "id": "10fac03d",
   "metadata": {},
   "outputs": [
    {
     "name": "stdout",
     "output_type": "stream",
     "text": [
      "Requirement already satisfied: qrcode in c:\\python39\\lib\\site-packages (6.1)\n",
      "Requirement already satisfied: six in c:\\users\\pc\\appdata\\roaming\\python\\python39\\site-packages (from qrcode) (1.16.0)\n",
      "Requirement already satisfied: colorama in c:\\users\\pc\\appdata\\roaming\\python\\python39\\site-packages (from qrcode) (0.4.5)\n"
     ]
    }
   ],
   "source": [
    "!pip install qrcode"
   ]
  },
  {
   "cell_type": "code",
   "execution_count": 3,
   "id": "b1037428",
   "metadata": {},
   "outputs": [
    {
     "name": "stdout",
     "output_type": "stream",
     "text": [
      "Requirement already satisfied: qrcode[pil] in c:\\python39\\lib\\site-packages (6.1)\n",
      "Requirement already satisfied: six in c:\\users\\pc\\appdata\\roaming\\python\\python39\\site-packages (from qrcode[pil]) (1.16.0)\n",
      "Requirement already satisfied: colorama in c:\\users\\pc\\appdata\\roaming\\python\\python39\\site-packages (from qrcode[pil]) (0.4.5)\n",
      "Requirement already satisfied: pillow in c:\\python39\\lib\\site-packages (from qrcode[pil]) (9.2.0)\n"
     ]
    }
   ],
   "source": [
    "!pip install qrcode[pil]"
   ]
  },
  {
   "cell_type": "markdown",
   "id": "001271e6",
   "metadata": {},
   "source": [
    "## 라이브러리 설치"
   ]
  },
  {
   "cell_type": "code",
   "execution_count": 4,
   "id": "d40b1ece",
   "metadata": {},
   "outputs": [],
   "source": [
    "import qrcode"
   ]
  },
  {
   "cell_type": "code",
   "execution_count": 5,
   "id": "2adca47b",
   "metadata": {},
   "outputs": [
    {
     "data": {
      "text/plain": [
       "['ERROR_CORRECT_H',\n",
       " 'ERROR_CORRECT_L',\n",
       " 'ERROR_CORRECT_M',\n",
       " 'ERROR_CORRECT_Q',\n",
       " 'LUT',\n",
       " 'QRCode',\n",
       " '__builtins__',\n",
       " '__cached__',\n",
       " '__doc__',\n",
       " '__file__',\n",
       " '__loader__',\n",
       " '__name__',\n",
       " '__package__',\n",
       " '__path__',\n",
       " '__spec__',\n",
       " 'base',\n",
       " 'constants',\n",
       " 'exceptions',\n",
       " 'image',\n",
       " 'main',\n",
       " 'make',\n",
       " 'run_example',\n",
       " 'util']"
      ]
     },
     "execution_count": 5,
     "metadata": {},
     "output_type": "execute_result"
    }
   ],
   "source": [
    "dir(qrcode)"
   ]
  },
  {
   "cell_type": "code",
   "execution_count": 6,
   "id": "21084b46",
   "metadata": {},
   "outputs": [
    {
     "data": {
      "image/png": "[encoded data removed]",
      "text/plain": [
       "<qrcode.image.pil.PilImage at 0x14d8a39cc10>"
      ]
     },
     "execution_count": 6,
     "metadata": {},
     "output_type": "execute_result"
    }
   ],
   "source": [
    "import qrcode\n",
    "img = qrcode.make('www.naver.com')\n",
    "img"
   ]
  },
  {
   "cell_type": "code",
   "execution_count": 7,
   "id": "247b7678",
   "metadata": {},
   "outputs": [],
   "source": [
    "img.save(\"naver_qr.png\")"
   ]
  },
  {
   "cell_type": "code",
   "execution_count": null,
   "id": "03c90c90",
   "metadata": {},
   "outputs": [],
   "source": []
  }
 ],
 "metadata": {
  "kernelspec": {
   "display_name": "Python 3.9.13 64-bit",
   "language": "python",
   "name": "python3"
  },
  "language_info": {
   "codemirror_mode": {
    "name": "ipython",
    "version": 3
   },
   "file_extension": ".py",
   "mimetype": "text/x-python",
   "name": "python",
   "nbconvert_exporter": "python",
   "pygments_lexer": "ipython3",
   "version": "3.9.13"
  },
  "vscode": {
   "interpreter": {
    "hash": "81794d4967e6c3204c66dcd87b604927b115b27c00565d3d43f05ba2f3a2cb0d"
   }
  }
 },
 "nbformat": 4,
 "nbformat_minor": 5
}
