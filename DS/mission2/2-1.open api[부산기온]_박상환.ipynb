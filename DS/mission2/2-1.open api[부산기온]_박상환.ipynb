{
 "cells": [
  {
   "cell_type": "markdown",
   "metadata": {},
   "source": [
    "부산 기온 데이터 수집\n",
    "부산에서 가장 더웠던 날은?\n",
    "매년 크리스마스 최고, 최저기온 추이\n",
    "월별 그래프 그리기"
   ]
  },
  {
   "cell_type": "code",
   "execution_count": 12,
   "metadata": {},
   "outputs": [
    {
     "data": {
      "text/html": [
       "<div>\n",
       "<style scoped>\n",
       "    .dataframe tbody tr th:only-of-type {\n",
       "        vertical-align: middle;\n",
       "    }\n",
       "\n",
       "    .dataframe tbody tr th {\n",
       "        vertical-align: top;\n",
       "    }\n",
       "\n",
       "    .dataframe thead th {\n",
       "        text-align: right;\n",
       "    }\n",
       "</style>\n",
       "<table border=\"1\" class=\"dataframe\">\n",
       "  <thead>\n",
       "    <tr style=\"text-align: right;\">\n",
       "      <th></th>\n",
       "      <th>날짜</th>\n",
       "      <th>지점</th>\n",
       "      <th>평균기온(℃)</th>\n",
       "      <th>최저기온(℃)</th>\n",
       "      <th>최고기온(℃)</th>\n",
       "    </tr>\n",
       "  </thead>\n",
       "  <tbody>\n",
       "    <tr>\n",
       "      <th>0</th>\n",
       "      <td>1904-08-01</td>\n",
       "      <td>159</td>\n",
       "      <td>26.2</td>\n",
       "      <td>22.7</td>\n",
       "      <td>30.3</td>\n",
       "    </tr>\n",
       "    <tr>\n",
       "      <th>1</th>\n",
       "      <td>1904-08-02</td>\n",
       "      <td>159</td>\n",
       "      <td>25.5</td>\n",
       "      <td>23.4</td>\n",
       "      <td>30.2</td>\n",
       "    </tr>\n",
       "    <tr>\n",
       "      <th>2</th>\n",
       "      <td>1904-08-03</td>\n",
       "      <td>159</td>\n",
       "      <td>24.9</td>\n",
       "      <td>23.1</td>\n",
       "      <td>29.2</td>\n",
       "    </tr>\n",
       "    <tr>\n",
       "      <th>3</th>\n",
       "      <td>1904-08-04</td>\n",
       "      <td>159</td>\n",
       "      <td>23.9</td>\n",
       "      <td>21.9</td>\n",
       "      <td>28.0</td>\n",
       "    </tr>\n",
       "    <tr>\n",
       "      <th>4</th>\n",
       "      <td>1904-08-05</td>\n",
       "      <td>159</td>\n",
       "      <td>23.7</td>\n",
       "      <td>21.9</td>\n",
       "      <td>27.5</td>\n",
       "    </tr>\n",
       "  </tbody>\n",
       "</table>\n",
       "</div>"
      ],
      "text/plain": [
       "           날짜   지점  평균기온(℃)  최저기온(℃)  최고기온(℃)\n",
       "0  1904-08-01  159     26.2     22.7     30.3\n",
       "1  1904-08-02  159     25.5     23.4     30.2\n",
       "2  1904-08-03  159     24.9     23.1     29.2\n",
       "3  1904-08-04  159     23.9     21.9     28.0\n",
       "4  1904-08-05  159     23.7     21.9     27.5"
      ]
     },
     "execution_count": 12,
     "metadata": {},
     "output_type": "execute_result"
    }
   ],
   "source": [
    "\n",
    "# 부산 기온 데이터 수집\n",
    "import pandas as pd\n",
    "import numpy as np\n",
    "import matplotlib.pyplot as plt\n",
    "\n",
    "df = pd.read_csv('./data/busan_20220921111819.csv', header=6,encoding='euc-kr') \n",
    "\n",
    "\n",
    "df.head() \n"
   ]
  },
  {
   "cell_type": "code",
   "execution_count": 19,
   "metadata": {},
   "outputs": [
    {
     "name": "stdout",
     "output_type": "stream",
     "text": [
      "부산에서 가장 더웠던 날은? 2016-08-14, 37.3도\n"
     ]
    }
   ],
   "source": [
    "# 부산에서 가장 더웠던 날은?\n",
    "\n",
    "df.rename(columns={ '평균기온(℃)':'평균기온',\n",
    "                    '최저기온(℃)':'최저기온', \n",
    "                    '최고기온(℃)':'최고기온'}, inplace= True)\n",
    "df.dropna(inplace=True)\n",
    "df.sort_values(by='최고기온', ascending=False) # 정렬해서 행, 렬 지정\n",
    "print(\"부산에서 가장 더웠던 날은? {}, {}도\".format(df.loc[40921,'날짜'],df.loc[40921,'최고기온']))"
   ]
  },
  {
   "cell_type": "code",
   "execution_count": 32,
   "metadata": {},
   "outputs": [
    {
     "data": {
      "text/html": [
       "<div>\n",
       "<style scoped>\n",
       "    .dataframe tbody tr th:only-of-type {\n",
       "        vertical-align: middle;\n",
       "    }\n",
       "\n",
       "    .dataframe tbody tr th {\n",
       "        vertical-align: top;\n",
       "    }\n",
       "\n",
       "    .dataframe thead th {\n",
       "        text-align: right;\n",
       "    }\n",
       "</style>\n",
       "<table border=\"1\" class=\"dataframe\">\n",
       "  <thead>\n",
       "    <tr style=\"text-align: right;\">\n",
       "      <th></th>\n",
       "      <th>날짜</th>\n",
       "      <th>최고기온</th>\n",
       "      <th>최저기온</th>\n",
       "    </tr>\n",
       "  </thead>\n",
       "  <tbody>\n",
       "    <tr>\n",
       "      <th>146</th>\n",
       "      <td>1904-12-25</td>\n",
       "      <td>7.7</td>\n",
       "      <td>-1.5</td>\n",
       "    </tr>\n",
       "    <tr>\n",
       "      <th>511</th>\n",
       "      <td>1905-12-25</td>\n",
       "      <td>14.8</td>\n",
       "      <td>10.5</td>\n",
       "    </tr>\n",
       "    <tr>\n",
       "      <th>876</th>\n",
       "      <td>1906-12-25</td>\n",
       "      <td>3.8</td>\n",
       "      <td>-4.8</td>\n",
       "    </tr>\n",
       "    <tr>\n",
       "      <th>1241</th>\n",
       "      <td>1907-12-25</td>\n",
       "      <td>13.9</td>\n",
       "      <td>5.3</td>\n",
       "    </tr>\n",
       "    <tr>\n",
       "      <th>1607</th>\n",
       "      <td>1908-12-25</td>\n",
       "      <td>9.1</td>\n",
       "      <td>-0.6</td>\n",
       "    </tr>\n",
       "    <tr>\n",
       "      <th>...</th>\n",
       "      <td>...</td>\n",
       "      <td>...</td>\n",
       "      <td>...</td>\n",
       "    </tr>\n",
       "    <tr>\n",
       "      <th>41419</th>\n",
       "      <td>2017-12-25</td>\n",
       "      <td>7.5</td>\n",
       "      <td>0.1</td>\n",
       "    </tr>\n",
       "    <tr>\n",
       "      <th>41784</th>\n",
       "      <td>2018-12-25</td>\n",
       "      <td>9.9</td>\n",
       "      <td>0.2</td>\n",
       "    </tr>\n",
       "    <tr>\n",
       "      <th>42149</th>\n",
       "      <td>2019-12-25</td>\n",
       "      <td>16.3</td>\n",
       "      <td>5.4</td>\n",
       "    </tr>\n",
       "    <tr>\n",
       "      <th>42515</th>\n",
       "      <td>2020-12-25</td>\n",
       "      <td>7.6</td>\n",
       "      <td>0.2</td>\n",
       "    </tr>\n",
       "    <tr>\n",
       "      <th>42880</th>\n",
       "      <td>2021-12-25</td>\n",
       "      <td>5.4</td>\n",
       "      <td>-6.5</td>\n",
       "    </tr>\n",
       "  </tbody>\n",
       "</table>\n",
       "<p>118 rows × 3 columns</p>\n",
       "</div>"
      ],
      "text/plain": [
       "              날짜  최고기온  최저기온\n",
       "146   1904-12-25   7.7  -1.5\n",
       "511   1905-12-25  14.8  10.5\n",
       "876   1906-12-25   3.8  -4.8\n",
       "1241  1907-12-25  13.9   5.3\n",
       "1607  1908-12-25   9.1  -0.6\n",
       "...          ...   ...   ...\n",
       "41419 2017-12-25   7.5   0.1\n",
       "41784 2018-12-25   9.9   0.2\n",
       "42149 2019-12-25  16.3   5.4\n",
       "42515 2020-12-25   7.6   0.2\n",
       "42880 2021-12-25   5.4  -6.5\n",
       "\n",
       "[118 rows x 3 columns]"
      ]
     },
     "execution_count": 32,
     "metadata": {},
     "output_type": "execute_result"
    }
   ],
   "source": [
    "\n",
    "# 매년 크리스마스 최고, 최저기온 추이\n",
    "df['날짜'] = df['날짜'].astype('datetime64')\n",
    "ch_month=(df['날짜'].dt.month == 12) \n",
    "ch_day=(df['날짜'].dt.day == 25 )\n",
    "df.loc[ch_month&ch_day,['날짜','최고기온','최저기온']]\n"
   ]
  },
  {
   "cell_type": "code",
   "execution_count": 45,
   "metadata": {},
   "outputs": [
    {
     "name": "stderr",
     "output_type": "stream",
     "text": [
      "C:\\Users\\park\\AppData\\Roaming\\Python\\Python310\\site-packages\\IPython\\core\\pylabtools.py:151: UserWarning: Glyph 50900 (\\N{HANGUL SYLLABLE WEOL}) missing from current font.\n",
      "  fig.canvas.print_figure(bytes_io, **kw)\n"
     ]
    },
    {
     "data": {
      "image/png": "[encoded data removed]",
      "text/plain": [
       "<Figure size 640x480 with 1 Axes>"
      ]
     },
     "metadata": {},
     "output_type": "display_data"
    }
   ],
   "source": [
    "# 월별 그래프 그리기\n",
    "\n",
    "df['월'] = df['날짜'].dt.month\n",
    "avg_month = []\n",
    "\n",
    "for i in range(1,13):\n",
    "    avg_month.append(df.loc[df['월'] == i,'평균기온'])\n",
    "\n",
    "x_m_list=[]\n",
    "for i in range(1,13) :\n",
    "    \n",
    "\n",
    "    x_m_list.append(f'{i}월')\n",
    "\n",
    "plt.rc('font',family='Malgun Gothic')\n",
    "plt.rcParams['axes.unicode_minus']=False\n",
    "plt.boxplot(avg_month)\n",
    "plt.xticks(range(1,13),x_m_list)\n",
    "\n",
    "\n",
    "\n",
    "plt.show()"
   ]
  }
 ],
 "metadata": {
  "kernelspec": {
   "display_name": "Python 3.10.5 64-bit",
   "language": "python",
   "name": "python3"
  },
  "language_info": {
   "codemirror_mode": {
    "name": "ipython",
    "version": 3
   },
   "file_extension": ".py",
   "mimetype": "text/x-python",
   "name": "python",
   "nbconvert_exporter": "python",
   "pygments_lexer": "ipython3",
   "version": "3.10.5"
  },
  "orig_nbformat": 4,
  "vscode": {
   "interpreter": {
    "hash": "369f2c481f4da34e4445cda3fffd2e751bd1c4d706f27375911949ba6bb62e1c"
   }
  }
 },
 "nbformat": 4,
 "nbformat_minor": 2
}
