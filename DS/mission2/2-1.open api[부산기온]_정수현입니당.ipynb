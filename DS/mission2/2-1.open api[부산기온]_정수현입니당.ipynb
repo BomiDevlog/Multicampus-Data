{
 "cells": [
  {
   "cell_type": "markdown",
   "metadata": {},
   "source": [
    "1. 부산 기온 데이터 수집\n",
    "\n",
    "2. 부산에서 가장 더웠던 날은? 검색\n",
    "\n",
    "3. 매년 크리스마스의 최고 기온과 최저 기온 추이 : plot\n",
    "\n",
    "4. 월별 기온 데이터 : boxplot"
   ]
  },
  {
   "cell_type": "code",
   "execution_count": 1,
   "metadata": {},
   "outputs": [],
   "source": [
    "import pandas as pd\n",
    "import matplotlib.pyplot as plt\n",
    "import numpy as np"
   ]
  },
  {
   "cell_type": "markdown",
   "metadata": {},
   "source": [
    "# 1. 부산 기온 데이터 수집"
   ]
  },
  {
   "cell_type": "markdown",
   "metadata": {},
   "source": [
    "### 데이터 csv로 읽기"
   ]
  },
  {
   "cell_type": "code",
   "execution_count": 92,
   "metadata": {},
   "outputs": [
    {
     "data": {
      "text/html": [
       "<div>\n",
       "<style scoped>\n",
       "    .dataframe tbody tr th:only-of-type {\n",
       "        vertical-align: middle;\n",
       "    }\n",
       "\n",
       "    .dataframe tbody tr th {\n",
       "        vertical-align: top;\n",
       "    }\n",
       "\n",
       "    .dataframe thead th {\n",
       "        text-align: right;\n",
       "    }\n",
       "</style>\n",
       "<table border=\"1\" class=\"dataframe\">\n",
       "  <thead>\n",
       "    <tr style=\"text-align: right;\">\n",
       "      <th></th>\n",
       "      <th>날짜</th>\n",
       "      <th>지점</th>\n",
       "      <th>평균기온(℃)</th>\n",
       "      <th>최저기온(℃)</th>\n",
       "      <th>최고기온(℃)</th>\n",
       "    </tr>\n",
       "  </thead>\n",
       "  <tbody>\n",
       "    <tr>\n",
       "      <th>0</th>\n",
       "      <td>1904-08-01</td>\n",
       "      <td>159</td>\n",
       "      <td>26.2</td>\n",
       "      <td>22.7</td>\n",
       "      <td>30.3</td>\n",
       "    </tr>\n",
       "    <tr>\n",
       "      <th>1</th>\n",
       "      <td>1904-08-02</td>\n",
       "      <td>159</td>\n",
       "      <td>25.5</td>\n",
       "      <td>23.4</td>\n",
       "      <td>30.2</td>\n",
       "    </tr>\n",
       "    <tr>\n",
       "      <th>2</th>\n",
       "      <td>1904-08-03</td>\n",
       "      <td>159</td>\n",
       "      <td>24.9</td>\n",
       "      <td>23.1</td>\n",
       "      <td>29.2</td>\n",
       "    </tr>\n",
       "    <tr>\n",
       "      <th>3</th>\n",
       "      <td>1904-08-04</td>\n",
       "      <td>159</td>\n",
       "      <td>23.9</td>\n",
       "      <td>21.9</td>\n",
       "      <td>28.0</td>\n",
       "    </tr>\n",
       "    <tr>\n",
       "      <th>4</th>\n",
       "      <td>1904-08-05</td>\n",
       "      <td>159</td>\n",
       "      <td>23.7</td>\n",
       "      <td>21.9</td>\n",
       "      <td>27.5</td>\n",
       "    </tr>\n",
       "    <tr>\n",
       "      <th>...</th>\n",
       "      <td>...</td>\n",
       "      <td>...</td>\n",
       "      <td>...</td>\n",
       "      <td>...</td>\n",
       "      <td>...</td>\n",
       "    </tr>\n",
       "    <tr>\n",
       "      <th>43145</th>\n",
       "      <td>2022-09-16</td>\n",
       "      <td>159</td>\n",
       "      <td>25.1</td>\n",
       "      <td>22.5</td>\n",
       "      <td>29.2</td>\n",
       "    </tr>\n",
       "    <tr>\n",
       "      <th>43146</th>\n",
       "      <td>2022-09-17</td>\n",
       "      <td>159</td>\n",
       "      <td>25.8</td>\n",
       "      <td>23.2</td>\n",
       "      <td>30.4</td>\n",
       "    </tr>\n",
       "    <tr>\n",
       "      <th>43147</th>\n",
       "      <td>2022-09-18</td>\n",
       "      <td>159</td>\n",
       "      <td>26.4</td>\n",
       "      <td>23.0</td>\n",
       "      <td>31.0</td>\n",
       "    </tr>\n",
       "    <tr>\n",
       "      <th>43148</th>\n",
       "      <td>2022-09-19</td>\n",
       "      <td>159</td>\n",
       "      <td>24.1</td>\n",
       "      <td>19.0</td>\n",
       "      <td>28.8</td>\n",
       "    </tr>\n",
       "    <tr>\n",
       "      <th>43149</th>\n",
       "      <td>2022-09-20</td>\n",
       "      <td>159</td>\n",
       "      <td>19.3</td>\n",
       "      <td>17.4</td>\n",
       "      <td>23.4</td>\n",
       "    </tr>\n",
       "  </tbody>\n",
       "</table>\n",
       "<p>43150 rows × 5 columns</p>\n",
       "</div>"
      ],
      "text/plain": [
       "               날짜   지점  평균기온(℃)  최저기온(℃)  최고기온(℃)\n",
       "0      1904-08-01  159     26.2     22.7     30.3\n",
       "1      1904-08-02  159     25.5     23.4     30.2\n",
       "2      1904-08-03  159     24.9     23.1     29.2\n",
       "3      1904-08-04  159     23.9     21.9     28.0\n",
       "4      1904-08-05  159     23.7     21.9     27.5\n",
       "...           ...  ...      ...      ...      ...\n",
       "43145  2022-09-16  159     25.1     22.5     29.2\n",
       "43146  2022-09-17  159     25.8     23.2     30.4\n",
       "43147  2022-09-18  159     26.4     23.0     31.0\n",
       "43148  2022-09-19  159     24.1     19.0     28.8\n",
       "43149  2022-09-20  159     19.3     17.4     23.4\n",
       "\n",
       "[43150 rows x 5 columns]"
      ]
     },
     "execution_count": 92,
     "metadata": {},
     "output_type": "execute_result"
    }
   ],
   "source": [
    "\n",
    "df = pd.read_csv('./data/ta_20220921110137.csv',header=6)\n",
    "df"
   ]
  },
  {
   "cell_type": "code",
   "execution_count": 93,
   "metadata": {},
   "outputs": [
    {
     "data": {
      "text/html": [
       "<div>\n",
       "<style scoped>\n",
       "    .dataframe tbody tr th:only-of-type {\n",
       "        vertical-align: middle;\n",
       "    }\n",
       "\n",
       "    .dataframe tbody tr th {\n",
       "        vertical-align: top;\n",
       "    }\n",
       "\n",
       "    .dataframe thead th {\n",
       "        text-align: right;\n",
       "    }\n",
       "</style>\n",
       "<table border=\"1\" class=\"dataframe\">\n",
       "  <thead>\n",
       "    <tr style=\"text-align: right;\">\n",
       "      <th></th>\n",
       "      <th>날짜</th>\n",
       "      <th>지점</th>\n",
       "      <th>평균기온</th>\n",
       "      <th>최저기온</th>\n",
       "      <th>최고기온</th>\n",
       "    </tr>\n",
       "  </thead>\n",
       "  <tbody>\n",
       "    <tr>\n",
       "      <th>0</th>\n",
       "      <td>1904-08-01</td>\n",
       "      <td>159</td>\n",
       "      <td>26.2</td>\n",
       "      <td>22.7</td>\n",
       "      <td>30.3</td>\n",
       "    </tr>\n",
       "    <tr>\n",
       "      <th>1</th>\n",
       "      <td>1904-08-02</td>\n",
       "      <td>159</td>\n",
       "      <td>25.5</td>\n",
       "      <td>23.4</td>\n",
       "      <td>30.2</td>\n",
       "    </tr>\n",
       "    <tr>\n",
       "      <th>2</th>\n",
       "      <td>1904-08-03</td>\n",
       "      <td>159</td>\n",
       "      <td>24.9</td>\n",
       "      <td>23.1</td>\n",
       "      <td>29.2</td>\n",
       "    </tr>\n",
       "    <tr>\n",
       "      <th>3</th>\n",
       "      <td>1904-08-04</td>\n",
       "      <td>159</td>\n",
       "      <td>23.9</td>\n",
       "      <td>21.9</td>\n",
       "      <td>28.0</td>\n",
       "    </tr>\n",
       "    <tr>\n",
       "      <th>4</th>\n",
       "      <td>1904-08-05</td>\n",
       "      <td>159</td>\n",
       "      <td>23.7</td>\n",
       "      <td>21.9</td>\n",
       "      <td>27.5</td>\n",
       "    </tr>\n",
       "    <tr>\n",
       "      <th>...</th>\n",
       "      <td>...</td>\n",
       "      <td>...</td>\n",
       "      <td>...</td>\n",
       "      <td>...</td>\n",
       "      <td>...</td>\n",
       "    </tr>\n",
       "    <tr>\n",
       "      <th>43145</th>\n",
       "      <td>2022-09-16</td>\n",
       "      <td>159</td>\n",
       "      <td>25.1</td>\n",
       "      <td>22.5</td>\n",
       "      <td>29.2</td>\n",
       "    </tr>\n",
       "    <tr>\n",
       "      <th>43146</th>\n",
       "      <td>2022-09-17</td>\n",
       "      <td>159</td>\n",
       "      <td>25.8</td>\n",
       "      <td>23.2</td>\n",
       "      <td>30.4</td>\n",
       "    </tr>\n",
       "    <tr>\n",
       "      <th>43147</th>\n",
       "      <td>2022-09-18</td>\n",
       "      <td>159</td>\n",
       "      <td>26.4</td>\n",
       "      <td>23.0</td>\n",
       "      <td>31.0</td>\n",
       "    </tr>\n",
       "    <tr>\n",
       "      <th>43148</th>\n",
       "      <td>2022-09-19</td>\n",
       "      <td>159</td>\n",
       "      <td>24.1</td>\n",
       "      <td>19.0</td>\n",
       "      <td>28.8</td>\n",
       "    </tr>\n",
       "    <tr>\n",
       "      <th>43149</th>\n",
       "      <td>2022-09-20</td>\n",
       "      <td>159</td>\n",
       "      <td>19.3</td>\n",
       "      <td>17.4</td>\n",
       "      <td>23.4</td>\n",
       "    </tr>\n",
       "  </tbody>\n",
       "</table>\n",
       "<p>43150 rows × 5 columns</p>\n",
       "</div>"
      ],
      "text/plain": [
       "               날짜   지점  평균기온  최저기온  최고기온\n",
       "0      1904-08-01  159  26.2  22.7  30.3\n",
       "1      1904-08-02  159  25.5  23.4  30.2\n",
       "2      1904-08-03  159  24.9  23.1  29.2\n",
       "3      1904-08-04  159  23.9  21.9  28.0\n",
       "4      1904-08-05  159  23.7  21.9  27.5\n",
       "...           ...  ...   ...   ...   ...\n",
       "43145  2022-09-16  159  25.1  22.5  29.2\n",
       "43146  2022-09-17  159  25.8  23.2  30.4\n",
       "43147  2022-09-18  159  26.4  23.0  31.0\n",
       "43148  2022-09-19  159  24.1  19.0  28.8\n",
       "43149  2022-09-20  159  19.3  17.4  23.4\n",
       "\n",
       "[43150 rows x 5 columns]"
      ]
     },
     "execution_count": 93,
     "metadata": {},
     "output_type": "execute_result"
    }
   ],
   "source": [
    "#컬럼명 변경\n",
    "df.rename(columns={'최고기온(℃)':'최고기온'},inplace=True)\n",
    "df.rename(columns={'최저기온(℃)':'최저기온'},inplace=True)\n",
    "df.rename(columns={'평균기온(℃)':'평균기온'},inplace=True)\n",
    "df"
   ]
  },
  {
   "cell_type": "code",
   "execution_count": 94,
   "metadata": {},
   "outputs": [],
   "source": [
    "#결측치 삭제\n",
    "df.dropna(inplace=True)"
   ]
  },
  {
   "cell_type": "code",
   "execution_count": 95,
   "metadata": {},
   "outputs": [
    {
     "data": {
      "text/plain": [
       "날짜      0\n",
       "지점      0\n",
       "평균기온    0\n",
       "최저기온    0\n",
       "최고기온    0\n",
       "dtype: int64"
      ]
     },
     "execution_count": 95,
     "metadata": {},
     "output_type": "execute_result"
    }
   ],
   "source": [
    "df.isnull().sum()"
   ]
  },
  {
   "cell_type": "markdown",
   "metadata": {},
   "source": [
    "# 2. 부산에서 가장 더웠던 날은? 검색"
   ]
  },
  {
   "cell_type": "code",
   "execution_count": 176,
   "metadata": {},
   "outputs": [
    {
     "data": {
      "text/plain": [
       "pandas.core.frame.DataFrame"
      ]
     },
     "execution_count": 176,
     "metadata": {},
     "output_type": "execute_result"
    }
   ],
   "source": [
    "\n",
    "max_df = df[['날짜','최고기온']]\n",
    "type(max_df)"
   ]
  },
  {
   "cell_type": "code",
   "execution_count": 83,
   "metadata": {},
   "outputs": [
    {
     "data": {
      "text/html": [
       "<div>\n",
       "<style scoped>\n",
       "    .dataframe tbody tr th:only-of-type {\n",
       "        vertical-align: middle;\n",
       "    }\n",
       "\n",
       "    .dataframe tbody tr th {\n",
       "        vertical-align: top;\n",
       "    }\n",
       "\n",
       "    .dataframe thead th {\n",
       "        text-align: right;\n",
       "    }\n",
       "</style>\n",
       "<table border=\"1\" class=\"dataframe\">\n",
       "  <thead>\n",
       "    <tr style=\"text-align: right;\">\n",
       "      <th></th>\n",
       "      <th>날짜</th>\n",
       "      <th>최고기온</th>\n",
       "    </tr>\n",
       "  </thead>\n",
       "  <tbody>\n",
       "    <tr>\n",
       "      <th>40921</th>\n",
       "      <td>2016-08-14</td>\n",
       "      <td>37.3</td>\n",
       "    </tr>\n",
       "  </tbody>\n",
       "</table>\n",
       "</div>"
      ],
      "text/plain": [
       "               날짜  최고기온\n",
       "40921  2016-08-14  37.3"
      ]
     },
     "execution_count": 83,
     "metadata": {},
     "output_type": "execute_result"
    }
   ],
   "source": [
    "max_df[max_df['최고기온']==max_df['최고기온'].max()]"
   ]
  },
  {
   "cell_type": "code",
   "execution_count": 84,
   "metadata": {},
   "outputs": [
    {
     "name": "stdout",
     "output_type": "stream",
     "text": [
      "부산에서 가장 더웠던 날은 2016-08-16 이며 온도는 37.3 (℃) 였습니다.\n"
     ]
    }
   ],
   "source": [
    "print(f'부산에서 가장 더웠던 날은 {max_df.values[40921][0]} 이며 온도는 {max_df[\"최고기온\"].max()} (℃) 였습니다.')"
   ]
  },
  {
   "cell_type": "markdown",
   "metadata": {},
   "source": [
    "# 3. 매년 크리스마스의 최고 기온과 최저 기온 추이 : plot"
   ]
  },
  {
   "cell_type": "code",
   "execution_count": 69,
   "metadata": {},
   "outputs": [
    {
     "data": {
      "text/html": [
       "<div>\n",
       "<style scoped>\n",
       "    .dataframe tbody tr th:only-of-type {\n",
       "        vertical-align: middle;\n",
       "    }\n",
       "\n",
       "    .dataframe tbody tr th {\n",
       "        vertical-align: top;\n",
       "    }\n",
       "\n",
       "    .dataframe thead th {\n",
       "        text-align: right;\n",
       "    }\n",
       "</style>\n",
       "<table border=\"1\" class=\"dataframe\">\n",
       "  <thead>\n",
       "    <tr style=\"text-align: right;\">\n",
       "      <th></th>\n",
       "      <th>날짜</th>\n",
       "      <th>최고기온</th>\n",
       "      <th>최저기온</th>\n",
       "    </tr>\n",
       "  </thead>\n",
       "  <tbody>\n",
       "    <tr>\n",
       "      <th>146</th>\n",
       "      <td>1904-12-25</td>\n",
       "      <td>7.7</td>\n",
       "      <td>-1.5</td>\n",
       "    </tr>\n",
       "    <tr>\n",
       "      <th>511</th>\n",
       "      <td>1905-12-25</td>\n",
       "      <td>14.8</td>\n",
       "      <td>10.5</td>\n",
       "    </tr>\n",
       "    <tr>\n",
       "      <th>876</th>\n",
       "      <td>1906-12-25</td>\n",
       "      <td>3.8</td>\n",
       "      <td>-4.8</td>\n",
       "    </tr>\n",
       "    <tr>\n",
       "      <th>1241</th>\n",
       "      <td>1907-12-25</td>\n",
       "      <td>13.9</td>\n",
       "      <td>5.3</td>\n",
       "    </tr>\n",
       "    <tr>\n",
       "      <th>1607</th>\n",
       "      <td>1908-12-25</td>\n",
       "      <td>9.1</td>\n",
       "      <td>-0.6</td>\n",
       "    </tr>\n",
       "    <tr>\n",
       "      <th>...</th>\n",
       "      <td>...</td>\n",
       "      <td>...</td>\n",
       "      <td>...</td>\n",
       "    </tr>\n",
       "    <tr>\n",
       "      <th>41419</th>\n",
       "      <td>2017-12-25</td>\n",
       "      <td>7.5</td>\n",
       "      <td>0.1</td>\n",
       "    </tr>\n",
       "    <tr>\n",
       "      <th>41784</th>\n",
       "      <td>2018-12-25</td>\n",
       "      <td>9.9</td>\n",
       "      <td>0.2</td>\n",
       "    </tr>\n",
       "    <tr>\n",
       "      <th>42149</th>\n",
       "      <td>2019-12-25</td>\n",
       "      <td>16.3</td>\n",
       "      <td>5.4</td>\n",
       "    </tr>\n",
       "    <tr>\n",
       "      <th>42515</th>\n",
       "      <td>2020-12-25</td>\n",
       "      <td>7.6</td>\n",
       "      <td>0.2</td>\n",
       "    </tr>\n",
       "    <tr>\n",
       "      <th>42880</th>\n",
       "      <td>2021-12-25</td>\n",
       "      <td>5.4</td>\n",
       "      <td>-6.5</td>\n",
       "    </tr>\n",
       "  </tbody>\n",
       "</table>\n",
       "<p>118 rows × 3 columns</p>\n",
       "</div>"
      ],
      "text/plain": [
       "               날짜  최고기온  최저기온\n",
       "146    1904-12-25   7.7  -1.5\n",
       "511    1905-12-25  14.8  10.5\n",
       "876    1906-12-25   3.8  -4.8\n",
       "1241   1907-12-25  13.9   5.3\n",
       "1607   1908-12-25   9.1  -0.6\n",
       "...           ...   ...   ...\n",
       "41419  2017-12-25   7.5   0.1\n",
       "41784  2018-12-25   9.9   0.2\n",
       "42149  2019-12-25  16.3   5.4\n",
       "42515  2020-12-25   7.6   0.2\n",
       "42880  2021-12-25   5.4  -6.5\n",
       "\n",
       "[118 rows x 3 columns]"
      ]
     },
     "execution_count": 69,
     "metadata": {},
     "output_type": "execute_result"
    }
   ],
   "source": [
    "df[df['날짜'].str.contains('12-25')][['날짜','최고기온','최저기온']]"
   ]
  },
  {
   "cell_type": "markdown",
   "metadata": {},
   "source": [
    "### 데이터 추출하기"
   ]
  },
  {
   "cell_type": "code",
   "execution_count": 70,
   "metadata": {},
   "outputs": [
    {
     "data": {
      "text/html": [
       "<div>\n",
       "<style scoped>\n",
       "    .dataframe tbody tr th:only-of-type {\n",
       "        vertical-align: middle;\n",
       "    }\n",
       "\n",
       "    .dataframe tbody tr th {\n",
       "        vertical-align: top;\n",
       "    }\n",
       "\n",
       "    .dataframe thead th {\n",
       "        text-align: right;\n",
       "    }\n",
       "</style>\n",
       "<table border=\"1\" class=\"dataframe\">\n",
       "  <thead>\n",
       "    <tr style=\"text-align: right;\">\n",
       "      <th></th>\n",
       "      <th>날짜</th>\n",
       "      <th>최고기온</th>\n",
       "      <th>최저기온</th>\n",
       "    </tr>\n",
       "  </thead>\n",
       "  <tbody>\n",
       "    <tr>\n",
       "      <th>146</th>\n",
       "      <td>1904-12-25</td>\n",
       "      <td>7.7</td>\n",
       "      <td>-1.5</td>\n",
       "    </tr>\n",
       "    <tr>\n",
       "      <th>511</th>\n",
       "      <td>1905-12-25</td>\n",
       "      <td>14.8</td>\n",
       "      <td>10.5</td>\n",
       "    </tr>\n",
       "    <tr>\n",
       "      <th>876</th>\n",
       "      <td>1906-12-25</td>\n",
       "      <td>3.8</td>\n",
       "      <td>-4.8</td>\n",
       "    </tr>\n",
       "    <tr>\n",
       "      <th>1241</th>\n",
       "      <td>1907-12-25</td>\n",
       "      <td>13.9</td>\n",
       "      <td>5.3</td>\n",
       "    </tr>\n",
       "    <tr>\n",
       "      <th>1607</th>\n",
       "      <td>1908-12-25</td>\n",
       "      <td>9.1</td>\n",
       "      <td>-0.6</td>\n",
       "    </tr>\n",
       "    <tr>\n",
       "      <th>...</th>\n",
       "      <td>...</td>\n",
       "      <td>...</td>\n",
       "      <td>...</td>\n",
       "    </tr>\n",
       "    <tr>\n",
       "      <th>41419</th>\n",
       "      <td>2017-12-25</td>\n",
       "      <td>7.5</td>\n",
       "      <td>0.1</td>\n",
       "    </tr>\n",
       "    <tr>\n",
       "      <th>41784</th>\n",
       "      <td>2018-12-25</td>\n",
       "      <td>9.9</td>\n",
       "      <td>0.2</td>\n",
       "    </tr>\n",
       "    <tr>\n",
       "      <th>42149</th>\n",
       "      <td>2019-12-25</td>\n",
       "      <td>16.3</td>\n",
       "      <td>5.4</td>\n",
       "    </tr>\n",
       "    <tr>\n",
       "      <th>42515</th>\n",
       "      <td>2020-12-25</td>\n",
       "      <td>7.6</td>\n",
       "      <td>0.2</td>\n",
       "    </tr>\n",
       "    <tr>\n",
       "      <th>42880</th>\n",
       "      <td>2021-12-25</td>\n",
       "      <td>5.4</td>\n",
       "      <td>-6.5</td>\n",
       "    </tr>\n",
       "  </tbody>\n",
       "</table>\n",
       "<p>118 rows × 3 columns</p>\n",
       "</div>"
      ],
      "text/plain": [
       "               날짜  최고기온  최저기온\n",
       "146    1904-12-25   7.7  -1.5\n",
       "511    1905-12-25  14.8  10.5\n",
       "876    1906-12-25   3.8  -4.8\n",
       "1241   1907-12-25  13.9   5.3\n",
       "1607   1908-12-25   9.1  -0.6\n",
       "...           ...   ...   ...\n",
       "41419  2017-12-25   7.5   0.1\n",
       "41784  2018-12-25   9.9   0.2\n",
       "42149  2019-12-25  16.3   5.4\n",
       "42515  2020-12-25   7.6   0.2\n",
       "42880  2021-12-25   5.4  -6.5\n",
       "\n",
       "[118 rows x 3 columns]"
      ]
     },
     "execution_count": 70,
     "metadata": {},
     "output_type": "execute_result"
    }
   ],
   "source": [
    "xmas_df=df[df['날짜'].str.contains('12-25')][['날짜','최고기온','최저기온']]\n",
    "xmas_df"
   ]
  },
  {
   "cell_type": "markdown",
   "metadata": {},
   "source": [
    "### plot 그래프 그리기"
   ]
  },
  {
   "cell_type": "code",
   "execution_count": 81,
   "metadata": {},
   "outputs": [
    {
     "data": {
      "text/plain": [
       "<matplotlib.legend.Legend at 0x2392c569220>"
      ]
     },
     "execution_count": 81,
     "metadata": {},
     "output_type": "execute_result"
    },
    {
     "data": {
      "image/png": "[encoded data removed]",
      "text/plain": [
       "<Figure size 640x480 with 1 Axes>"
      ]
     },
     "metadata": {},
     "output_type": "display_data"
    }
   ],
   "source": [
    "\n",
    "plt.rc('font',family = 'Malgun Gothic')\n",
    "plt.rcParams['axes.unicode_minus']=False\n",
    "\n",
    "plt.plot(xmas_df['최고기온'],label='최고기온')\n",
    "plt.plot(xmas_df['최저기온'],label='최저기온')\n",
    "plt.ylabel('기온',loc='top')\n",
    "plt.legend()"
   ]
  },
  {
   "cell_type": "markdown",
   "metadata": {},
   "source": [
    "# 4. 월별 기온 데이터 : boxplot"
   ]
  },
  {
   "cell_type": "markdown",
   "metadata": {},
   "source": [
    "### '날짜' 데이터 형변환 후 '월' 컬럼 만들기"
   ]
  },
  {
   "cell_type": "code",
   "execution_count": 101,
   "metadata": {},
   "outputs": [
    {
     "name": "stdout",
     "output_type": "stream",
     "text": [
      "<class 'pandas.core.frame.DataFrame'>\n",
      "Int64Index: 43148 entries, 0 to 43149\n",
      "Data columns (total 5 columns):\n",
      " #   Column  Non-Null Count  Dtype         \n",
      "---  ------  --------------  -----         \n",
      " 0   날짜      43148 non-null  datetime64[ns]\n",
      " 1   지점      43148 non-null  int64         \n",
      " 2   평균기온    43148 non-null  float64       \n",
      " 3   최저기온    43148 non-null  float64       \n",
      " 4   최고기온    43148 non-null  float64       \n",
      "dtypes: datetime64[ns](1), float64(3), int64(1)\n",
      "memory usage: 2.0 MB\n"
     ]
    }
   ],
   "source": [
    "#형 변환\n",
    "df['날짜']=df['날짜'].astype('datetime64')\n",
    "df.info()"
   ]
  },
  {
   "cell_type": "code",
   "execution_count": 102,
   "metadata": {},
   "outputs": [
    {
     "data": {
      "text/html": [
       "<div>\n",
       "<style scoped>\n",
       "    .dataframe tbody tr th:only-of-type {\n",
       "        vertical-align: middle;\n",
       "    }\n",
       "\n",
       "    .dataframe tbody tr th {\n",
       "        vertical-align: top;\n",
       "    }\n",
       "\n",
       "    .dataframe thead th {\n",
       "        text-align: right;\n",
       "    }\n",
       "</style>\n",
       "<table border=\"1\" class=\"dataframe\">\n",
       "  <thead>\n",
       "    <tr style=\"text-align: right;\">\n",
       "      <th></th>\n",
       "      <th>날짜</th>\n",
       "      <th>지점</th>\n",
       "      <th>평균기온</th>\n",
       "      <th>최저기온</th>\n",
       "      <th>최고기온</th>\n",
       "      <th>월</th>\n",
       "    </tr>\n",
       "  </thead>\n",
       "  <tbody>\n",
       "    <tr>\n",
       "      <th>0</th>\n",
       "      <td>1904-08-01</td>\n",
       "      <td>159</td>\n",
       "      <td>26.2</td>\n",
       "      <td>22.7</td>\n",
       "      <td>30.3</td>\n",
       "      <td>8</td>\n",
       "    </tr>\n",
       "    <tr>\n",
       "      <th>1</th>\n",
       "      <td>1904-08-02</td>\n",
       "      <td>159</td>\n",
       "      <td>25.5</td>\n",
       "      <td>23.4</td>\n",
       "      <td>30.2</td>\n",
       "      <td>8</td>\n",
       "    </tr>\n",
       "    <tr>\n",
       "      <th>2</th>\n",
       "      <td>1904-08-03</td>\n",
       "      <td>159</td>\n",
       "      <td>24.9</td>\n",
       "      <td>23.1</td>\n",
       "      <td>29.2</td>\n",
       "      <td>8</td>\n",
       "    </tr>\n",
       "    <tr>\n",
       "      <th>3</th>\n",
       "      <td>1904-08-04</td>\n",
       "      <td>159</td>\n",
       "      <td>23.9</td>\n",
       "      <td>21.9</td>\n",
       "      <td>28.0</td>\n",
       "      <td>8</td>\n",
       "    </tr>\n",
       "    <tr>\n",
       "      <th>4</th>\n",
       "      <td>1904-08-05</td>\n",
       "      <td>159</td>\n",
       "      <td>23.7</td>\n",
       "      <td>21.9</td>\n",
       "      <td>27.5</td>\n",
       "      <td>8</td>\n",
       "    </tr>\n",
       "    <tr>\n",
       "      <th>...</th>\n",
       "      <td>...</td>\n",
       "      <td>...</td>\n",
       "      <td>...</td>\n",
       "      <td>...</td>\n",
       "      <td>...</td>\n",
       "      <td>...</td>\n",
       "    </tr>\n",
       "    <tr>\n",
       "      <th>43145</th>\n",
       "      <td>2022-09-16</td>\n",
       "      <td>159</td>\n",
       "      <td>25.1</td>\n",
       "      <td>22.5</td>\n",
       "      <td>29.2</td>\n",
       "      <td>9</td>\n",
       "    </tr>\n",
       "    <tr>\n",
       "      <th>43146</th>\n",
       "      <td>2022-09-17</td>\n",
       "      <td>159</td>\n",
       "      <td>25.8</td>\n",
       "      <td>23.2</td>\n",
       "      <td>30.4</td>\n",
       "      <td>9</td>\n",
       "    </tr>\n",
       "    <tr>\n",
       "      <th>43147</th>\n",
       "      <td>2022-09-18</td>\n",
       "      <td>159</td>\n",
       "      <td>26.4</td>\n",
       "      <td>23.0</td>\n",
       "      <td>31.0</td>\n",
       "      <td>9</td>\n",
       "    </tr>\n",
       "    <tr>\n",
       "      <th>43148</th>\n",
       "      <td>2022-09-19</td>\n",
       "      <td>159</td>\n",
       "      <td>24.1</td>\n",
       "      <td>19.0</td>\n",
       "      <td>28.8</td>\n",
       "      <td>9</td>\n",
       "    </tr>\n",
       "    <tr>\n",
       "      <th>43149</th>\n",
       "      <td>2022-09-20</td>\n",
       "      <td>159</td>\n",
       "      <td>19.3</td>\n",
       "      <td>17.4</td>\n",
       "      <td>23.4</td>\n",
       "      <td>9</td>\n",
       "    </tr>\n",
       "  </tbody>\n",
       "</table>\n",
       "<p>43148 rows × 6 columns</p>\n",
       "</div>"
      ],
      "text/plain": [
       "              날짜   지점  평균기온  최저기온  최고기온  월\n",
       "0     1904-08-01  159  26.2  22.7  30.3  8\n",
       "1     1904-08-02  159  25.5  23.4  30.2  8\n",
       "2     1904-08-03  159  24.9  23.1  29.2  8\n",
       "3     1904-08-04  159  23.9  21.9  28.0  8\n",
       "4     1904-08-05  159  23.7  21.9  27.5  8\n",
       "...          ...  ...   ...   ...   ... ..\n",
       "43145 2022-09-16  159  25.1  22.5  29.2  9\n",
       "43146 2022-09-17  159  25.8  23.2  30.4  9\n",
       "43147 2022-09-18  159  26.4  23.0  31.0  9\n",
       "43148 2022-09-19  159  24.1  19.0  28.8  9\n",
       "43149 2022-09-20  159  19.3  17.4  23.4  9\n",
       "\n",
       "[43148 rows x 6 columns]"
      ]
     },
     "execution_count": 102,
     "metadata": {},
     "output_type": "execute_result"
    }
   ],
   "source": [
    "#컬럼 생성\n",
    "\n",
    "df['월']=df['날짜'].dt.month\n",
    "df"
   ]
  },
  {
   "cell_type": "code",
   "execution_count": 145,
   "metadata": {},
   "outputs": [],
   "source": [
    "m_list=[]\n",
    "x_m_list=[]\n",
    "for i in range(1,13) :\n",
    "    m_list.append(df.loc[df['월']==i,'평균기온'])\n",
    "    x_m_list.append(f'{i}월')\n"
   ]
  },
  {
   "cell_type": "code",
   "execution_count": 175,
   "metadata": {},
   "outputs": [
    {
     "data": {
      "image/png": "[encoded data removed]",
      "text/plain": [
       "<Figure size 640x480 with 1 Axes>"
      ]
     },
     "metadata": {},
     "output_type": "display_data"
    }
   ],
   "source": [
    "\n",
    "plt.rc('font',family='Malgun Gothic')\n",
    "plt.rcParams['axes.unicode_minus']=False\n",
    "\n",
    "plt.boxplot(m_list)\n",
    "\n",
    "plt.xticks(range(1,13),x_m_list)\n",
    "plt.ylabel('온도(℃)',loc='top')\n",
    "\n",
    "plt.show()"
   ]
  }
 ],
 "metadata": {
  "kernelspec": {
   "display_name": "Python 3.9.13 64-bit",
   "language": "python",
   "name": "python3"
  },
  "language_info": {
   "codemirror_mode": {
    "name": "ipython",
    "version": 3
   },
   "file_extension": ".py",
   "mimetype": "text/x-python",
   "name": "python",
   "nbconvert_exporter": "python",
   "pygments_lexer": "ipython3",
   "version": "3.9.13"
  },
  "orig_nbformat": 4,
  "vscode": {
   "interpreter": {
    "hash": "81794d4967e6c3204c66dcd87b604927b115b27c00565d3d43f05ba2f3a2cb0d"
   }
  }
 },
 "nbformat": 4,
 "nbformat_minor": 2
}
