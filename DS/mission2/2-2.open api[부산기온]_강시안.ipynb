{
 "cells": [
  {
   "cell_type": "markdown",
   "metadata": {},
   "source": [
    "1. 부산 기온 데이터 수집\n",
    "2. 부산에서 가장 더웠던 날은? -> 검색\n",
    "3. 매년 크리스마스의 최고기온과 최저 기온 추이:plot\n",
    "4. 월별 기온 데이터 : boxpot\n",
    "\n",
    "//ta_20220921111634"
   ]
  },
  {
   "cell_type": "code",
   "execution_count": 1,
   "metadata": {},
   "outputs": [
    {
     "name": "stdout",
     "output_type": "stream",
     "text": [
      "Defaulting to user installation because normal site-packages is not writeable\n",
      "Requirement already satisfied: matplotlib in c:\\users\\sian\\appdata\\roaming\\python\\python39\\site-packages (3.6.0)\n",
      "Requirement already satisfied: kiwisolver>=1.0.1 in c:\\users\\sian\\appdata\\roaming\\python\\python39\\site-packages (from matplotlib) (1.4.4)\n",
      "Requirement already satisfied: contourpy>=1.0.1 in c:\\users\\sian\\appdata\\roaming\\python\\python39\\site-packages (from matplotlib) (1.0.5)\n",
      "Requirement already satisfied: pillow>=6.2.0 in c:\\users\\sian\\appdata\\roaming\\python\\python39\\site-packages (from matplotlib) (9.2.0)\n",
      "Requirement already satisfied: cycler>=0.10 in c:\\users\\sian\\appdata\\roaming\\python\\python39\\site-packages (from matplotlib) (0.11.0)\n",
      "Requirement already satisfied: numpy>=1.19 in c:\\users\\sian\\appdata\\roaming\\python\\python39\\site-packages (from matplotlib) (1.23.3)\n",
      "Requirement already satisfied: python-dateutil>=2.7 in c:\\users\\sian\\appdata\\roaming\\python\\python39\\site-packages (from matplotlib) (2.8.2)\n",
      "Requirement already satisfied: fonttools>=4.22.0 in c:\\users\\sian\\appdata\\roaming\\python\\python39\\site-packages (from matplotlib) (4.37.2)\n",
      "Requirement already satisfied: pyparsing>=2.2.1 in c:\\users\\sian\\appdata\\roaming\\python\\python39\\site-packages (from matplotlib) (3.0.9)\n",
      "Requirement already satisfied: packaging>=20.0 in c:\\users\\sian\\appdata\\roaming\\python\\python39\\site-packages (from matplotlib) (21.3)\n",
      "Requirement already satisfied: six>=1.5 in c:\\users\\sian\\appdata\\roaming\\python\\python39\\site-packages (from python-dateutil>=2.7->matplotlib) (1.16.0)\n"
     ]
    }
   ],
   "source": [
    "! pip install matplotlib"
   ]
  },
  {
   "cell_type": "code",
   "execution_count": 2,
   "metadata": {},
   "outputs": [],
   "source": [
    "# 라이브러리 임포트\n",
    "import pandas as pd\n",
    "import numpy as np\n",
    "import matplotlib.pyplot as plt"
   ]
  },
  {
   "cell_type": "code",
   "execution_count": 25,
   "metadata": {},
   "outputs": [
    {
     "data": {
      "text/html": [
       "<div>\n",
       "<style scoped>\n",
       "    .dataframe tbody tr th:only-of-type {\n",
       "        vertical-align: middle;\n",
       "    }\n",
       "\n",
       "    .dataframe tbody tr th {\n",
       "        vertical-align: top;\n",
       "    }\n",
       "\n",
       "    .dataframe thead th {\n",
       "        text-align: right;\n",
       "    }\n",
       "</style>\n",
       "<table border=\"1\" class=\"dataframe\">\n",
       "  <thead>\n",
       "    <tr style=\"text-align: right;\">\n",
       "      <th></th>\n",
       "      <th>날짜</th>\n",
       "      <th>지점</th>\n",
       "      <th>평균기온(℃)</th>\n",
       "      <th>최저기온(℃)</th>\n",
       "      <th>최고기온(℃)</th>\n",
       "    </tr>\n",
       "  </thead>\n",
       "  <tbody>\n",
       "    <tr>\n",
       "      <th>0</th>\n",
       "      <td>1904-04-09</td>\n",
       "      <td>159</td>\n",
       "      <td>11.3</td>\n",
       "      <td>7.8</td>\n",
       "      <td>16.1</td>\n",
       "    </tr>\n",
       "    <tr>\n",
       "      <th>1</th>\n",
       "      <td>1904-04-10</td>\n",
       "      <td>159</td>\n",
       "      <td>9.3</td>\n",
       "      <td>4.7</td>\n",
       "      <td>15.2</td>\n",
       "    </tr>\n",
       "    <tr>\n",
       "      <th>2</th>\n",
       "      <td>1904-04-11</td>\n",
       "      <td>159</td>\n",
       "      <td>10.6</td>\n",
       "      <td>NaN</td>\n",
       "      <td>14.9</td>\n",
       "    </tr>\n",
       "    <tr>\n",
       "      <th>3</th>\n",
       "      <td>1904-04-12</td>\n",
       "      <td>159</td>\n",
       "      <td>11.3</td>\n",
       "      <td>8.8</td>\n",
       "      <td>13.4</td>\n",
       "    </tr>\n",
       "    <tr>\n",
       "      <th>4</th>\n",
       "      <td>1904-04-13</td>\n",
       "      <td>159</td>\n",
       "      <td>14.5</td>\n",
       "      <td>11.1</td>\n",
       "      <td>16.9</td>\n",
       "    </tr>\n",
       "  </tbody>\n",
       "</table>\n",
       "</div>"
      ],
      "text/plain": [
       "           날짜   지점  평균기온(℃)  최저기온(℃)  최고기온(℃)\n",
       "0  1904-04-09  159     11.3      7.8     16.1\n",
       "1  1904-04-10  159      9.3      4.7     15.2\n",
       "2  1904-04-11  159     10.6      NaN     14.9\n",
       "3  1904-04-12  159     11.3      8.8     13.4\n",
       "4  1904-04-13  159     14.5     11.1     16.9"
      ]
     },
     "execution_count": 25,
     "metadata": {},
     "output_type": "execute_result"
    }
   ],
   "source": [
    "# 데이터 로드\n",
    "df = pd.read_csv('./data/ta_20220921111634.csv', header=6) # 불러드릴 row위치 지정\n",
    "df.head()"
   ]
  },
  {
   "cell_type": "code",
   "execution_count": 26,
   "metadata": {},
   "outputs": [],
   "source": [
    "df.rename(columns={df.columns[2]:'평균기온',\n",
    "                   df.columns[3]:'최저기온', \n",
    "                   df.columns[4]:'최고기온'}, inplace=True)"
   ]
  },
  {
   "cell_type": "code",
   "execution_count": 42,
   "metadata": {},
   "outputs": [
    {
     "data": {
      "text/html": [
       "<div>\n",
       "<style scoped>\n",
       "    .dataframe tbody tr th:only-of-type {\n",
       "        vertical-align: middle;\n",
       "    }\n",
       "\n",
       "    .dataframe tbody tr th {\n",
       "        vertical-align: top;\n",
       "    }\n",
       "\n",
       "    .dataframe thead th {\n",
       "        text-align: right;\n",
       "    }\n",
       "</style>\n",
       "<table border=\"1\" class=\"dataframe\">\n",
       "  <thead>\n",
       "    <tr style=\"text-align: right;\">\n",
       "      <th></th>\n",
       "      <th>날짜</th>\n",
       "      <th>지점</th>\n",
       "      <th>평균기온</th>\n",
       "      <th>최저기온</th>\n",
       "      <th>최고기온</th>\n",
       "    </tr>\n",
       "  </thead>\n",
       "  <tbody>\n",
       "    <tr>\n",
       "      <th>0</th>\n",
       "      <td>1904-04-09</td>\n",
       "      <td>159</td>\n",
       "      <td>11.3</td>\n",
       "      <td>7.8</td>\n",
       "      <td>16.1</td>\n",
       "    </tr>\n",
       "    <tr>\n",
       "      <th>1</th>\n",
       "      <td>1904-04-10</td>\n",
       "      <td>159</td>\n",
       "      <td>9.3</td>\n",
       "      <td>4.7</td>\n",
       "      <td>15.2</td>\n",
       "    </tr>\n",
       "    <tr>\n",
       "      <th>3</th>\n",
       "      <td>1904-04-12</td>\n",
       "      <td>159</td>\n",
       "      <td>11.3</td>\n",
       "      <td>8.8</td>\n",
       "      <td>13.4</td>\n",
       "    </tr>\n",
       "    <tr>\n",
       "      <th>4</th>\n",
       "      <td>1904-04-13</td>\n",
       "      <td>159</td>\n",
       "      <td>14.5</td>\n",
       "      <td>11.1</td>\n",
       "      <td>16.9</td>\n",
       "    </tr>\n",
       "    <tr>\n",
       "      <th>5</th>\n",
       "      <td>1904-04-14</td>\n",
       "      <td>159</td>\n",
       "      <td>9.4</td>\n",
       "      <td>8.6</td>\n",
       "      <td>16.0</td>\n",
       "    </tr>\n",
       "  </tbody>\n",
       "</table>\n",
       "</div>"
      ],
      "text/plain": [
       "           날짜   지점  평균기온  최저기온  최고기온\n",
       "0  1904-04-09  159  11.3   7.8  16.1\n",
       "1  1904-04-10  159   9.3   4.7  15.2\n",
       "3  1904-04-12  159  11.3   8.8  13.4\n",
       "4  1904-04-13  159  14.5  11.1  16.9\n",
       "5  1904-04-14  159   9.4   8.6  16.0"
      ]
     },
     "execution_count": 42,
     "metadata": {},
     "output_type": "execute_result"
    }
   ],
   "source": [
    "df.head()"
   ]
  },
  {
   "cell_type": "code",
   "execution_count": 6,
   "metadata": {},
   "outputs": [
    {
     "data": {
      "text/html": [
       "<div>\n",
       "<style scoped>\n",
       "    .dataframe tbody tr th:only-of-type {\n",
       "        vertical-align: middle;\n",
       "    }\n",
       "\n",
       "    .dataframe tbody tr th {\n",
       "        vertical-align: top;\n",
       "    }\n",
       "\n",
       "    .dataframe thead th {\n",
       "        text-align: right;\n",
       "    }\n",
       "</style>\n",
       "<table border=\"1\" class=\"dataframe\">\n",
       "  <thead>\n",
       "    <tr style=\"text-align: right;\">\n",
       "      <th></th>\n",
       "      <th>날짜</th>\n",
       "      <th>최고기온</th>\n",
       "    </tr>\n",
       "  </thead>\n",
       "  <tbody>\n",
       "    <tr>\n",
       "      <th>41035</th>\n",
       "      <td>2016-08-14</td>\n",
       "      <td>37.3</td>\n",
       "    </tr>\n",
       "  </tbody>\n",
       "</table>\n",
       "</div>"
      ],
      "text/plain": [
       "               날짜  최고기온\n",
       "41035  2016-08-14  37.3"
      ]
     },
     "execution_count": 6,
     "metadata": {},
     "output_type": "execute_result"
    }
   ],
   "source": [
    "df_temp = df.sort_values(by=['최고기온'], ascending=False)\n",
    "df_temp.iloc[:1,[0,4]]"
   ]
  },
  {
   "cell_type": "code",
   "execution_count": 7,
   "metadata": {},
   "outputs": [],
   "source": [
    "cris_df = df[df['날짜'].str.contains('12-25')]"
   ]
  },
  {
   "cell_type": "code",
   "execution_count": 8,
   "metadata": {},
   "outputs": [
    {
     "data": {
      "text/html": [
       "<div>\n",
       "<style scoped>\n",
       "    .dataframe tbody tr th:only-of-type {\n",
       "        vertical-align: middle;\n",
       "    }\n",
       "\n",
       "    .dataframe tbody tr th {\n",
       "        vertical-align: top;\n",
       "    }\n",
       "\n",
       "    .dataframe thead th {\n",
       "        text-align: right;\n",
       "    }\n",
       "</style>\n",
       "<table border=\"1\" class=\"dataframe\">\n",
       "  <thead>\n",
       "    <tr style=\"text-align: right;\">\n",
       "      <th></th>\n",
       "      <th>날짜</th>\n",
       "      <th>지점</th>\n",
       "      <th>평균기온</th>\n",
       "      <th>최저기온</th>\n",
       "      <th>최고기온</th>\n",
       "    </tr>\n",
       "  </thead>\n",
       "  <tbody>\n",
       "    <tr>\n",
       "      <th>260</th>\n",
       "      <td>1904-12-25</td>\n",
       "      <td>159</td>\n",
       "      <td>2.5</td>\n",
       "      <td>-1.5</td>\n",
       "      <td>7.7</td>\n",
       "    </tr>\n",
       "    <tr>\n",
       "      <th>625</th>\n",
       "      <td>1905-12-25</td>\n",
       "      <td>159</td>\n",
       "      <td>11.6</td>\n",
       "      <td>10.5</td>\n",
       "      <td>14.8</td>\n",
       "    </tr>\n",
       "    <tr>\n",
       "      <th>990</th>\n",
       "      <td>1906-12-25</td>\n",
       "      <td>159</td>\n",
       "      <td>0.3</td>\n",
       "      <td>-4.8</td>\n",
       "      <td>3.8</td>\n",
       "    </tr>\n",
       "    <tr>\n",
       "      <th>1355</th>\n",
       "      <td>1907-12-25</td>\n",
       "      <td>159</td>\n",
       "      <td>9.1</td>\n",
       "      <td>5.3</td>\n",
       "      <td>13.9</td>\n",
       "    </tr>\n",
       "    <tr>\n",
       "      <th>1721</th>\n",
       "      <td>1908-12-25</td>\n",
       "      <td>159</td>\n",
       "      <td>3.8</td>\n",
       "      <td>-0.6</td>\n",
       "      <td>9.1</td>\n",
       "    </tr>\n",
       "  </tbody>\n",
       "</table>\n",
       "</div>"
      ],
      "text/plain": [
       "              날짜   지점  평균기온  최저기온  최고기온\n",
       "260   1904-12-25  159   2.5  -1.5   7.7\n",
       "625   1905-12-25  159  11.6  10.5  14.8\n",
       "990   1906-12-25  159   0.3  -4.8   3.8\n",
       "1355  1907-12-25  159   9.1   5.3  13.9\n",
       "1721  1908-12-25  159   3.8  -0.6   9.1"
      ]
     },
     "execution_count": 8,
     "metadata": {},
     "output_type": "execute_result"
    }
   ],
   "source": [
    "cris_df.head()"
   ]
  },
  {
   "cell_type": "code",
   "execution_count": 9,
   "metadata": {},
   "outputs": [],
   "source": [
    "cris_df = cris_df[['날짜','최저기온','최고기온']]"
   ]
  },
  {
   "cell_type": "code",
   "execution_count": 10,
   "metadata": {},
   "outputs": [
    {
     "data": {
      "text/html": [
       "<div>\n",
       "<style scoped>\n",
       "    .dataframe tbody tr th:only-of-type {\n",
       "        vertical-align: middle;\n",
       "    }\n",
       "\n",
       "    .dataframe tbody tr th {\n",
       "        vertical-align: top;\n",
       "    }\n",
       "\n",
       "    .dataframe thead th {\n",
       "        text-align: right;\n",
       "    }\n",
       "</style>\n",
       "<table border=\"1\" class=\"dataframe\">\n",
       "  <thead>\n",
       "    <tr style=\"text-align: right;\">\n",
       "      <th></th>\n",
       "      <th>날짜</th>\n",
       "      <th>최저기온</th>\n",
       "      <th>최고기온</th>\n",
       "    </tr>\n",
       "  </thead>\n",
       "  <tbody>\n",
       "    <tr>\n",
       "      <th>260</th>\n",
       "      <td>1904-12-25</td>\n",
       "      <td>-1.5</td>\n",
       "      <td>7.7</td>\n",
       "    </tr>\n",
       "    <tr>\n",
       "      <th>625</th>\n",
       "      <td>1905-12-25</td>\n",
       "      <td>10.5</td>\n",
       "      <td>14.8</td>\n",
       "    </tr>\n",
       "    <tr>\n",
       "      <th>990</th>\n",
       "      <td>1906-12-25</td>\n",
       "      <td>-4.8</td>\n",
       "      <td>3.8</td>\n",
       "    </tr>\n",
       "    <tr>\n",
       "      <th>1355</th>\n",
       "      <td>1907-12-25</td>\n",
       "      <td>5.3</td>\n",
       "      <td>13.9</td>\n",
       "    </tr>\n",
       "    <tr>\n",
       "      <th>1721</th>\n",
       "      <td>1908-12-25</td>\n",
       "      <td>-0.6</td>\n",
       "      <td>9.1</td>\n",
       "    </tr>\n",
       "  </tbody>\n",
       "</table>\n",
       "</div>"
      ],
      "text/plain": [
       "              날짜  최저기온  최고기온\n",
       "260   1904-12-25  -1.5   7.7\n",
       "625   1905-12-25  10.5  14.8\n",
       "990   1906-12-25  -4.8   3.8\n",
       "1355  1907-12-25   5.3  13.9\n",
       "1721  1908-12-25  -0.6   9.1"
      ]
     },
     "execution_count": 10,
     "metadata": {},
     "output_type": "execute_result"
    }
   ],
   "source": [
    "cris_df.head()\n"
   ]
  },
  {
   "cell_type": "code",
   "execution_count": 14,
   "metadata": {},
   "outputs": [
    {
     "data": {
      "text/plain": [
       "Text(0, 1, 'high temperature (℃)')"
      ]
     },
     "execution_count": 14,
     "metadata": {},
     "output_type": "execute_result"
    },
    {
     "data": {
      "image/png": "[encoded data removed]",
      "text/plain": [
       "<Figure size 640x480 with 1 Axes>"
      ]
     },
     "metadata": {},
     "output_type": "display_data"
    }
   ],
   "source": [
    "#매년 크리스마스의 최고기온 추이\n",
    "plt.plot(cris_df['날짜'],cris_df['최고기온'],color='tomato')\n",
    "plt.title('Christmas Temperature in Busan')\n",
    "plt.xlabel('date', loc='right')\n",
    "plt.ylabel('high temperature (℃)', loc='top')"
   ]
  },
  {
   "cell_type": "code",
   "execution_count": 15,
   "metadata": {},
   "outputs": [
    {
     "data": {
      "text/plain": [
       "Text(0, 1, 'row temperature (℃)')"
      ]
     },
     "execution_count": 15,
     "metadata": {},
     "output_type": "execute_result"
    },
    {
     "data": {
      "image/png": "[encoded data removed]",
      "text/plain": [
       "<Figure size 640x480 with 1 Axes>"
      ]
     },
     "metadata": {},
     "output_type": "display_data"
    }
   ],
   "source": [
    "#매년 크리스마스의 최저기온 추이\n",
    "plt.plot(cris_df['날짜'],cris_df['최저기온'],color='cyan')\n",
    "plt.title('Christmas Temperature in Busan')\n",
    "plt.xlabel('date', loc='right')\n",
    "plt.ylabel('row temperature (℃)', loc='top')"
   ]
  },
  {
   "cell_type": "code",
   "execution_count": 16,
   "metadata": {},
   "outputs": [
    {
     "data": {
      "text/html": [
       "<div>\n",
       "<style scoped>\n",
       "    .dataframe tbody tr th:only-of-type {\n",
       "        vertical-align: middle;\n",
       "    }\n",
       "\n",
       "    .dataframe tbody tr th {\n",
       "        vertical-align: top;\n",
       "    }\n",
       "\n",
       "    .dataframe thead th {\n",
       "        text-align: right;\n",
       "    }\n",
       "</style>\n",
       "<table border=\"1\" class=\"dataframe\">\n",
       "  <thead>\n",
       "    <tr style=\"text-align: right;\">\n",
       "      <th></th>\n",
       "      <th>날짜</th>\n",
       "      <th>지점</th>\n",
       "      <th>평균기온</th>\n",
       "      <th>최저기온</th>\n",
       "      <th>최고기온</th>\n",
       "    </tr>\n",
       "  </thead>\n",
       "  <tbody>\n",
       "    <tr>\n",
       "      <th>0</th>\n",
       "      <td>1904-04-09</td>\n",
       "      <td>159</td>\n",
       "      <td>11.3</td>\n",
       "      <td>7.8</td>\n",
       "      <td>16.1</td>\n",
       "    </tr>\n",
       "    <tr>\n",
       "      <th>1</th>\n",
       "      <td>1904-04-10</td>\n",
       "      <td>159</td>\n",
       "      <td>9.3</td>\n",
       "      <td>4.7</td>\n",
       "      <td>15.2</td>\n",
       "    </tr>\n",
       "    <tr>\n",
       "      <th>2</th>\n",
       "      <td>1904-04-11</td>\n",
       "      <td>159</td>\n",
       "      <td>10.6</td>\n",
       "      <td>NaN</td>\n",
       "      <td>14.9</td>\n",
       "    </tr>\n",
       "    <tr>\n",
       "      <th>3</th>\n",
       "      <td>1904-04-12</td>\n",
       "      <td>159</td>\n",
       "      <td>11.3</td>\n",
       "      <td>8.8</td>\n",
       "      <td>13.4</td>\n",
       "    </tr>\n",
       "    <tr>\n",
       "      <th>4</th>\n",
       "      <td>1904-04-13</td>\n",
       "      <td>159</td>\n",
       "      <td>14.5</td>\n",
       "      <td>11.1</td>\n",
       "      <td>16.9</td>\n",
       "    </tr>\n",
       "  </tbody>\n",
       "</table>\n",
       "</div>"
      ],
      "text/plain": [
       "           날짜   지점  평균기온  최저기온  최고기온\n",
       "0  1904-04-09  159  11.3   7.8  16.1\n",
       "1  1904-04-10  159   9.3   4.7  15.2\n",
       "2  1904-04-11  159  10.6   NaN  14.9\n",
       "3  1904-04-12  159  11.3   8.8  13.4\n",
       "4  1904-04-13  159  14.5  11.1  16.9"
      ]
     },
     "execution_count": 16,
     "metadata": {},
     "output_type": "execute_result"
    }
   ],
   "source": [
    "df.head()"
   ]
  },
  {
   "cell_type": "code",
   "execution_count": 27,
   "metadata": {},
   "outputs": [],
   "source": [
    "# 날짜 데이터 Str => date 형으로 변환\n",
    "df['날짜'] = df['날짜'].astype('datetime64')"
   ]
  },
  {
   "cell_type": "code",
   "execution_count": 19,
   "metadata": {},
   "outputs": [
    {
     "data": {
      "text/html": [
       "<div>\n",
       "<style scoped>\n",
       "    .dataframe tbody tr th:only-of-type {\n",
       "        vertical-align: middle;\n",
       "    }\n",
       "\n",
       "    .dataframe tbody tr th {\n",
       "        vertical-align: top;\n",
       "    }\n",
       "\n",
       "    .dataframe thead th {\n",
       "        text-align: right;\n",
       "    }\n",
       "</style>\n",
       "<table border=\"1\" class=\"dataframe\">\n",
       "  <thead>\n",
       "    <tr style=\"text-align: right;\">\n",
       "      <th></th>\n",
       "      <th>날짜</th>\n",
       "      <th>지점</th>\n",
       "      <th>평균기온</th>\n",
       "      <th>최저기온</th>\n",
       "      <th>최고기온</th>\n",
       "    </tr>\n",
       "  </thead>\n",
       "  <tbody>\n",
       "    <tr>\n",
       "      <th>22</th>\n",
       "      <td>1904-05-01</td>\n",
       "      <td>159</td>\n",
       "      <td>13.7</td>\n",
       "      <td>12.8</td>\n",
       "      <td>15.3</td>\n",
       "    </tr>\n",
       "    <tr>\n",
       "      <th>53</th>\n",
       "      <td>1904-06-01</td>\n",
       "      <td>159</td>\n",
       "      <td>17.6</td>\n",
       "      <td>13.8</td>\n",
       "      <td>22.1</td>\n",
       "    </tr>\n",
       "    <tr>\n",
       "      <th>83</th>\n",
       "      <td>1904-07-01</td>\n",
       "      <td>159</td>\n",
       "      <td>23.7</td>\n",
       "      <td>22.2</td>\n",
       "      <td>27.3</td>\n",
       "    </tr>\n",
       "    <tr>\n",
       "      <th>114</th>\n",
       "      <td>1904-08-01</td>\n",
       "      <td>159</td>\n",
       "      <td>26.2</td>\n",
       "      <td>22.7</td>\n",
       "      <td>30.3</td>\n",
       "    </tr>\n",
       "    <tr>\n",
       "      <th>145</th>\n",
       "      <td>1904-09-01</td>\n",
       "      <td>159</td>\n",
       "      <td>22.4</td>\n",
       "      <td>20.2</td>\n",
       "      <td>25.4</td>\n",
       "    </tr>\n",
       "    <tr>\n",
       "      <th>...</th>\n",
       "      <td>...</td>\n",
       "      <td>...</td>\n",
       "      <td>...</td>\n",
       "      <td>...</td>\n",
       "      <td>...</td>\n",
       "    </tr>\n",
       "    <tr>\n",
       "      <th>43121</th>\n",
       "      <td>2022-05-01</td>\n",
       "      <td>159</td>\n",
       "      <td>14.8</td>\n",
       "      <td>11.5</td>\n",
       "      <td>19.1</td>\n",
       "    </tr>\n",
       "    <tr>\n",
       "      <th>43152</th>\n",
       "      <td>2022-06-01</td>\n",
       "      <td>159</td>\n",
       "      <td>22.2</td>\n",
       "      <td>18.5</td>\n",
       "      <td>27.5</td>\n",
       "    </tr>\n",
       "    <tr>\n",
       "      <th>43182</th>\n",
       "      <td>2022-07-01</td>\n",
       "      <td>159</td>\n",
       "      <td>25.9</td>\n",
       "      <td>21.7</td>\n",
       "      <td>29.9</td>\n",
       "    </tr>\n",
       "    <tr>\n",
       "      <th>43213</th>\n",
       "      <td>2022-08-01</td>\n",
       "      <td>159</td>\n",
       "      <td>27.5</td>\n",
       "      <td>26.2</td>\n",
       "      <td>30.5</td>\n",
       "    </tr>\n",
       "    <tr>\n",
       "      <th>43244</th>\n",
       "      <td>2022-09-01</td>\n",
       "      <td>159</td>\n",
       "      <td>21.9</td>\n",
       "      <td>21.0</td>\n",
       "      <td>23.1</td>\n",
       "    </tr>\n",
       "  </tbody>\n",
       "</table>\n",
       "<p>1421 rows × 5 columns</p>\n",
       "</div>"
      ],
      "text/plain": [
       "              날짜   지점  평균기온  최저기온  최고기온\n",
       "22    1904-05-01  159  13.7  12.8  15.3\n",
       "53    1904-06-01  159  17.6  13.8  22.1\n",
       "83    1904-07-01  159  23.7  22.2  27.3\n",
       "114   1904-08-01  159  26.2  22.7  30.3\n",
       "145   1904-09-01  159  22.4  20.2  25.4\n",
       "...          ...  ...   ...   ...   ...\n",
       "43121 2022-05-01  159  14.8  11.5  19.1\n",
       "43152 2022-06-01  159  22.2  18.5  27.5\n",
       "43182 2022-07-01  159  25.9  21.7  29.9\n",
       "43213 2022-08-01  159  27.5  26.2  30.5\n",
       "43244 2022-09-01  159  21.9  21.0  23.1\n",
       "\n",
       "[1421 rows x 5 columns]"
      ]
     },
     "execution_count": 19,
     "metadata": {},
     "output_type": "execute_result"
    }
   ],
   "source": [
    "#년도/월별 데이터 조회\n",
    "target_day = 1 \n",
    "df.query('날짜.dt.day == @target_day')"
   ]
  },
  {
   "cell_type": "code",
   "execution_count": 90,
   "metadata": {},
   "outputs": [],
   "source": [
    "#데이터 로드\n",
    "df = pd.read_csv('./data/ta_20220921111634.csv', header=6)\n",
    "df.rename(columns={df.columns[2]:'평균기온',\n",
    "                   df.columns[3]:'최저기온', \n",
    "                   df.columns[4]:'최고기온'}, inplace=True)\n",
    "\n",
    "# 결측 데이터 삭제\n",
    "df.dropna(inplace=True)\n",
    "df['날짜'] = df['날짜'].astype('datetime64')\n",
    "\n",
    "# 날짜 데이터 Str => date 형으로 변환\n",
    "#df['날짜'] = df['날짜'].astype('datetime64')"
   ]
  },
  {
   "cell_type": "code",
   "execution_count": 103,
   "metadata": {},
   "outputs": [
    {
     "ename": "IndexError",
     "evalue": "list index out of range",
     "output_type": "error",
     "traceback": [
      "\u001b[1;31m---------------------------------------------------------------------------\u001b[0m",
      "\u001b[1;31mIndexError\u001b[0m                                Traceback (most recent call last)",
      "Cell \u001b[1;32mIn [103], line 17\u001b[0m\n\u001b[0;32m     15\u001b[0m \u001b[38;5;28;01mfor\u001b[39;00m row \u001b[38;5;129;01min\u001b[39;00m data:\n\u001b[0;32m     16\u001b[0m   \u001b[38;5;28;01mif\u001b[39;00m row[\u001b[38;5;241m-\u001b[39m\u001b[38;5;241m1\u001b[39m] \u001b[38;5;241m!=\u001b[39m \u001b[38;5;124m'\u001b[39m\u001b[38;5;124m'\u001b[39m: \u001b[38;5;66;03m# 결측치 제외\u001b[39;00m\n\u001b[1;32m---> 17\u001b[0m     month[\u001b[38;5;28mint\u001b[39m(\u001b[43mrow\u001b[49m\u001b[43m[\u001b[49m\u001b[38;5;241;43m2\u001b[39;49m\u001b[43m]\u001b[49m\u001b[38;5;241m.\u001b[39msplit(\u001b[38;5;124m'\u001b[39m\u001b[38;5;124m-\u001b[39m\u001b[38;5;124m'\u001b[39m)[\u001b[38;5;241m1\u001b[39m])\u001b[38;5;241m-\u001b[39m\u001b[38;5;241m1\u001b[39m]\u001b[38;5;241m.\u001b[39mappend(\u001b[38;5;28mfloat\u001b[39m(row[\u001b[38;5;241m-\u001b[39m\u001b[38;5;241m3\u001b[39m]))\n\u001b[0;32m     18\u001b[0m     \u001b[38;5;66;03m# temp = int(row[0].split('-')[1])\u001b[39;00m\n\u001b[0;32m     19\u001b[0m     \u001b[38;5;66;03m# month[temp-1].append(float(row[-1]))\u001b[39;00m\n\u001b[0;32m     20\u001b[0m plt\u001b[38;5;241m.\u001b[39mfigure(dpi\u001b[38;5;241m=\u001b[39m\u001b[38;5;241m100\u001b[39m)\n",
      "\u001b[1;31mIndexError\u001b[0m: list index out of range"
     ]
    }
   ],
   "source": [
    "import csv\n",
    "from datetime import datetime\n",
    "import matplotlib.pyplot as plt\n",
    "\n",
    "f = open('./data/ta_20220921111634.csv', encoding=\"UTF-8\") \n",
    "data = csv.reader(f)\n",
    "next(data) \n",
    "\n",
    "\n",
    "month = []\n",
    "for i in range(12):\n",
    "  month.append([])\n",
    "\n",
    "\n",
    "for row in data:\n",
    "  if row[-1] != '': # 결측치 제외\n",
    "    month[int(row[2].split('-')[1])-1].append(float(row[-3]))\n",
    "\n",
    "\n",
    "plt.figure(dpi=100)\n",
    "plt.rcParams['axes.unicode_minus'] = False #마이너스 기호 깨짐 방지\n",
    "\n",
    "\n",
    "plt.title(\"부산 월별 평균기온 boxplot\")\n",
    "plt.boxplot(month)\n",
    "plt.show() "
   ]
  },
  {
   "cell_type": "code",
   "execution_count": null,
   "metadata": {},
   "outputs": [],
   "source": []
  }
 ],
 "metadata": {
  "kernelspec": {
   "display_name": "Python 3.9.13 64-bit",
   "language": "python",
   "name": "python3"
  },
  "language_info": {
   "codemirror_mode": {
    "name": "ipython",
    "version": 3
   },
   "file_extension": ".py",
   "mimetype": "text/x-python",
   "name": "python",
   "nbconvert_exporter": "python",
   "pygments_lexer": "ipython3",
   "version": "3.9.13"
  },
  "orig_nbformat": 4,
  "vscode": {
   "interpreter": {
    "hash": "11938c6bc6919ae2720b4d5011047913343b08a43b18698fd82dedb0d4417594"
   }
  }
 },
 "nbformat": 4,
 "nbformat_minor": 2
}
