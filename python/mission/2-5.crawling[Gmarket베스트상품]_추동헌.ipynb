{
 "cells": [
  {
   "cell_type": "markdown",
   "metadata": {},
   "source": [
    "## Gmartket 베스트 상품 이미지 크롤링"
   ]
  },
  {
   "cell_type": "markdown",
   "metadata": {},
   "source": [
    "### Gmartket 베스트 상품 이미지 크롤링\n",
    "* 패션 의류 탑 5 상품 이미지"
   ]
  },
  {
   "cell_type": "code",
   "execution_count": 2,
   "metadata": {},
   "outputs": [],
   "source": [
    "import requests\n",
    "from urllib.request import urlopen\n",
    "from bs4 import BeautifulSoup\n",
    "\n",
    "crawl_num = 5   #크롤 갯수\n",
    "\n",
    "#타깃이 되는 URL\n",
    "best_url = 'http://corners.gmarket.co.kr/Bestsellers?viewType=G&groupCode=G01'\n",
    "\n",
    "#HTML 가져오기\n",
    "res = requests.get(best_url)\n",
    "\n",
    "#HTML 파싱하여 객체에 담기\n",
    "soup = BeautifulSoup(res.content, 'html.parser')\n",
    "\n",
    "#태그안의 정보 빼기\n",
    "products = soup.select('div.best-list > ul > li') "
   ]
  },
  {
   "cell_type": "code",
   "execution_count": 18,
   "metadata": {},
   "outputs": [
    {
     "data": {
      "text/plain": [
       "'https://gdimg.gmarket.co.kr/189842449/still/300?ver=2022090322'"
      ]
     },
     "execution_count": 18,
     "metadata": {},
     "output_type": "execute_result"
    }
   ],
   "source": [
    "img_url = 'https:'+ img_tag['data-original']\n",
    "img_url"
   ]
  },
  {
   "cell_type": "code",
   "execution_count": 8,
   "metadata": {},
   "outputs": [
    {
     "data": {
      "text/plain": [
       "'https://image.gmarket.co.kr/challenge/neo_image/no_image.gif'"
      ]
     },
     "execution_count": 8,
     "metadata": {},
     "output_type": "execute_result"
    }
   ],
   "source": [
    "img_url = 'https:'+ img_tag['src']\n",
    "img_url"
   ]
  },
  {
   "cell_type": "code",
   "execution_count": 3,
   "metadata": {},
   "outputs": [],
   "source": [
    "## 이미지 다운로드\n",
    "from urllib.request import urlopen\n",
    "imgUrl = 'https://gdimg.gmarket.co.kr/189842449/still/300?ver=2022090322'\n",
    "\n",
    "index = 0\n",
    "with urlopen(imgUrl) as f:\n",
    "    with open('./image/crawl/img'+ str(index +1) + '.jpg','wb') as h: # w - write b - binary\n",
    "        img = f.read()\n",
    "        h.write(img)"
   ]
  },
  {
   "cell_type": "markdown",
   "metadata": {},
   "source": [
    "## 종합코드\n",
    "\n",
    "* 베스트 5개 이미지만 저장할 것!"
   ]
  },
  {
   "cell_type": "code",
   "execution_count": 1,
   "metadata": {},
   "outputs": [
    {
     "name": "stdout",
     "output_type": "stream",
     "text": [
      "크롤링 끝\n"
     ]
    }
   ],
   "source": [
    "import requests\n",
    "from urllib.request import urlopen\n",
    "from bs4 import BeautifulSoup\n",
    "\n",
    "crawl_num = 5   #크롤 갯수\n",
    "\n",
    "best_url = 'http://corners.gmarket.co.kr/Bestsellers?viewType=G&groupCode=G01'\n",
    "res = requests.get(best_url)\n",
    "soup = BeautifulSoup(res.content, 'html.parser')\n",
    "products = soup.select('div.best-list > ul > li') \n",
    "\n",
    "for index,_ in enumerate(products):\n",
    "    if index < crawl_num:\n",
    "        img_tag = products[index].select_one('img.lazy')\n",
    "        img_url = 'https:'+ img_tag['data-original']\n",
    "        pname = products[index].select_one('a.itemname').get_text().replace('/',',')\n",
    "\n",
    "        from urllib.request import urlopen\n",
    "        with urlopen(img_url) as f:\n",
    "            with open(f'./image/crawl/{pname}' + '.jpg','wb') as h: # w - write b - binary\n",
    "                img = f.read()\n",
    "                h.write(img)\n",
    "print(\"크롤링 끝\")\n"
   ]
  },
  {
   "cell_type": "markdown",
   "metadata": {},
   "source": [
    "### 파일이름에 상품명이 같이 나오도록 바꾸기\n",
    "\n",
    "* 예) img1.jpg -> img1_겨울 따뜻한 후리스조끼플리스자켓패딩기모바지.jpg"
   ]
  },
  {
   "cell_type": "code",
   "execution_count": 2,
   "metadata": {},
   "outputs": [],
   "source": [
    "\n",
    "\n",
    "pname = products[index].select_one('a.itemname').get_text().replace('/',',')\n",
    "from urllib.request import urlopen\n",
    "with urlopen(img_url) as f:\n",
    "    with open(f'./image/crawl/{pname}' + '.jpg','wb') as h: # w - write b - binary\n",
    "        img = f.read()\n",
    "        h.write(img)\n",
    "\n",
    "\n",
    "\n",
    "\n",
    "\n",
    "\n",
    "\n",
    "\n",
    "\n"
   ]
  },
  {
   "cell_type": "markdown",
   "metadata": {},
   "source": [
    "### 카테고리별 베스트 상품 크롤링 자동화\n",
    "\n",
    "* 패션의류, 신발/잡화, 화장품/헤어, 유아동/출산 .........\n",
    "* 원하는 만큼 상품 크롤링"
   ]
  },
  {
   "cell_type": "markdown",
   "metadata": {},
   "source": [
    "#### 자동으로 URL 만들기\n",
    "\n",
    "* http://corners.gmarket.co.kr/Bestsellers?viewType=G&groupCode=G01\n",
    "* http://corners.gmarket.co.kr/Bestsellers?viewType=G&groupCode=G02\n",
    "* http://corners.gmarket.co.kr/Bestsellers?viewType=G&groupCode=G03\n",
    "* http://corners.gmarket.co.kr/Bestsellers?viewType=G&groupCode=G04\n",
    "\n",
    "> URL을 위의 순서처럼 순서대로 만들려면 어떻게 해야할까?"
   ]
  },
  {
   "cell_type": "code",
   "execution_count": 3,
   "metadata": {},
   "outputs": [
    {
     "data": {
      "text/plain": [
       "['http://corners.gmarket.co.kr/Bestsellers?viewType=G&groupCode=G01',\n",
       " 'http://corners.gmarket.co.kr/Bestsellers?viewType=G&groupCode=G02',\n",
       " 'http://corners.gmarket.co.kr/Bestsellers?viewType=G&groupCode=G03',\n",
       " 'http://corners.gmarket.co.kr/Bestsellers?viewType=G&groupCode=G04']"
      ]
     },
     "execution_count": 3,
     "metadata": {},
     "output_type": "execute_result"
    }
   ],
   "source": [
    "url=[]\n",
    "for n in range(1,5):\n",
    "    url.append(f'http://corners.gmarket.co.kr/Bestsellers?viewType=G&groupCode=G{n:02d}')\n",
    "url"
   ]
  },
  {
   "cell_type": "markdown",
   "metadata": {},
   "source": [
    "#### 자동으로 4개의 카테고리 베스트 상품을 크롤링 하세요"
   ]
  },
  {
   "cell_type": "code",
   "execution_count": 12,
   "metadata": {},
   "outputs": [],
   "source": [
    "\n",
    "\n",
    "from posixpath import dirname\n",
    "import requests\n",
    "from urllib.request import urlopen\n",
    "from bs4 import BeautifulSoup\n",
    "import os\n",
    "\n",
    "crawl_num = 5\n",
    "\n",
    "url=[]\n",
    "for n in range(1,5):\n",
    "    url.append(f'http://corners.gmarket.co.kr/Bestsellers?viewType=G&groupCode=G{n:02d}')\n",
    "    \n",
    "    res = requests.get(url[n-1])\n",
    "    soup = BeautifulSoup(res.content, 'html.parser')\n",
    "    products = soup.select('div.best-list > ul > li') \n",
    "\n",
    "    for index,_ in enumerate(products):\n",
    "        if index < crawl_num:\n",
    "            img_tag = products[index].select_one('img.lazy')\n",
    "            img_url = 'https:'+ img_tag['data-original']\n",
    "            pname = products[index].select_one('a.itemname').get_text().replace('/',',')\n",
    "\n",
    "            from urllib.request import urlopen\n",
    "            with urlopen(img_url) as f:\n",
    "                with open(f'./image/crawl/{n:02d}_{pname}_{index+1}' + '.jpg','wb') as h: # w - write b - binary\n",
    "                    img = f.read()\n",
    "                    h.write(img)\n",
    "    # print(\"크롤링 끝\",n)\n"
   ]
  },
  {
   "cell_type": "markdown",
   "metadata": {},
   "source": [
    "### 파일 이름이 카테고리별로 정리 되려면 어떻게 해야할까요?\n",
    ">예) <br>\n",
    ">img1_겨울 따뜻한 후리스조끼플리스자켓패딩기모바지.jpg <br>\n",
    ">img1_[달바]화이트 트러플 미스트 세럼 180ml+180ml.jpg <br>\n",
    ">크롤링한 파일이 섞여있어, 카테고리별 베스트 상품을 파악할 수 없어요. <br>"
   ]
  },
  {
   "cell_type": "markdown",
   "metadata": {},
   "source": [
    "## Pillow(PIL) 모듈 체험\n",
    "\n",
    "* 파이썬 이미징 라이브러리로서 여러 이미지 파일 포맷을 지원\n",
    "* 이미지 내부 데이타를 엑세스할 수 있게 하며, 다양한 이미지 처리 기능을 제공\n",
    "\n",
    "https://pillow.readthedocs.io/en/stable/reference/index.html\n",
    "\n",
    "http://pythonstudy.xyz/python/article/406-%ED%8C%8C%EC%9D%B4%EC%8D%AC-%EC%9D%B4%EB%AF%B8%EC%A7%80-%EC%B2%98%EB%A6%AC-Pillow\n"
   ]
  },
  {
   "cell_type": "code",
   "execution_count": 10,
   "metadata": {},
   "outputs": [
    {
     "name": "stdout",
     "output_type": "stream",
     "text": [
      "Requirement already satisfied: Pillow in c:\\users\\miran\\appdata\\local\\programs\\python\\python39\\lib\\site-packages (9.2.0)\n"
     ]
    }
   ],
   "source": [
    "!pip install Pillow"
   ]
  },
  {
   "cell_type": "markdown",
   "metadata": {},
   "source": [
    "### 이미지 읽고 쓰기"
   ]
  },
  {
   "cell_type": "code",
   "execution_count": 4,
   "metadata": {},
   "outputs": [
    {
     "name": "stdout",
     "output_type": "stream",
     "text": [
      "(100, 100)\n"
     ]
    }
   ],
   "source": [
    "from PIL import Image\n",
    "# 이미지 열기\n",
    "tmp = Image.open('./image/dog.jpg')\n",
    " \n",
    "# 이미지 크기 출력\n",
    "print(tmp.size)\n",
    "tmp.close()"
   ]
  },
  {
   "cell_type": "code",
   "execution_count": 17,
   "metadata": {},
   "outputs": [
    {
     "name": "stdout",
     "output_type": "stream",
     "text": [
      "(100, 100)\n"
     ]
    }
   ],
   "source": [
    "from PIL import Image\n",
    "# 이미지 열기\n",
    "fileName='dog'\n",
    "tmp = Image.open('./image/' + fileName + '.jpg')\n",
    " \n",
    "# 이미지 크기 출력\n",
    "print(tmp.size)\n",
    "tmp.close()"
   ]
  },
  {
   "cell_type": "markdown",
   "metadata": {},
   "source": [
    "### 이미지 사이즈 조절"
   ]
  },
  {
   "cell_type": "code",
   "execution_count": 18,
   "metadata": {},
   "outputs": [
    {
     "name": "stdout",
     "output_type": "stream",
     "text": [
      "---end ---\n"
     ]
    }
   ],
   "source": [
    "fileName='dog'\n",
    "tmp=Image.open('./image/' + fileName + '.jpg')\n",
    "\n",
    "# 200x200으로 조절\n",
    "tmpResize=tmp.resize((200,200))\n",
    "tmpResize.save('./image/' + fileName + '.jpg')\n",
    "\n",
    "print('---end ---')\n",
    "tmp.close()"
   ]
  },
  {
   "cell_type": "code",
   "execution_count": 19,
   "metadata": {},
   "outputs": [
    {
     "name": "stdout",
     "output_type": "stream",
     "text": [
      "---end ---\n"
     ]
    }
   ],
   "source": [
    "fileName='dog'\n",
    "tmp=Image.open('./image/' + fileName + '.jpg')\n",
    "\n",
    "size=300\n",
    "tmpResize=tmp.resize((size,size))\n",
    "tmpResize.save('./image/' + str(size) + fileName + '.jpg')\n",
    "print('---end ---')\n",
    "tmp.close()"
   ]
  },
  {
   "cell_type": "markdown",
   "metadata": {},
   "source": [
    "### 이미지에 로고 합성\n",
    " https://creativeworks.tistory.com/entry/PYTHON-3-Tutorials-41-Combine-Images-Together-%EC%9D%B4%EB%AF%B8%EC%A7%80-%EB%B3%91%ED%95%A9%ED%95%98%EA%B8%B0-like-watermark%EC%9B%8C%ED%84%B0%EB%A7%88%ED%81%AC?category=620431"
   ]
  },
  {
   "cell_type": "code",
   "execution_count": 20,
   "metadata": {},
   "outputs": [
    {
     "name": "stdout",
     "output_type": "stream",
     "text": [
      "(64, 64)\n"
     ]
    }
   ],
   "source": [
    "from PIL import Image\n",
    "\n",
    "logo=Image.open('./image/top.png')\n",
    "\n",
    "print(logo.size)"
   ]
  },
  {
   "cell_type": "code",
   "execution_count": 21,
   "metadata": {},
   "outputs": [],
   "source": [
    "#area=(0,0,64,64)\n",
    "p=Image.open('./image/crawl/01_너의지금 20%쿠폰 신상니트 가디건,롱,세트,가을신상,크롭,박스,루즈핏,긴팔_1.jpg')\n",
    "\n",
    "area=(0,0,logo.width,logo.height)\n",
    "\n",
    "p.paste(logo,area,logo) #png 파일 배경 투명하게 붙이는 방법\n",
    "\n",
    "\n",
    "p.save('01_[logo]_너의지금 20%쿠폰 신상니트 가디건,롱,세트,가을신상,크롭,박스,루즈핏,긴팔_1.jpg')\n",
    "p.close()\n",
    "logo.close()"
   ]
  },
  {
   "cell_type": "markdown",
   "metadata": {},
   "source": [
    "## 디렉토리안 파일리스트 가져오기"
   ]
  },
  {
   "cell_type": "code",
   "execution_count": 22,
   "metadata": {},
   "outputs": [
    {
     "data": {
      "text/plain": [
       "['01_너의지금 20%쿠폰 신상니트 가디건,롱,세트,가을신상,크롭,박스,루즈핏,긴팔_1.jpg',\n",
       " '01_모노시크,가을신상 티셔츠,맨투맨,후드,니트,블라우스,셔츠,남방,가디건,세트,팬츠,스커트,데일리룩_2.jpg',\n",
       " '01_쇼인더룸 가을신상할인 티셔츠,세트,팬츠,빅사이즈_5.jpg',\n",
       " '01_제이프랑 가을신상 티셔츠,팬츠,긴팔,셋업_4.jpg',\n",
       " '01_패션라인 가을신상 원피스,니트,맨투맨,셔츠,팬츠,청바지,자켓,데님,세트상품_3.jpg',\n",
       " '02_[디즈니]슈라모드,디즈니 외 F,W 1+1,단품 거실화 털슬리퍼_4.jpg',\n",
       " '02_[디즈니]슈라모드디즈니 외 FW 1+1단품 거실화 털슬리퍼_1.jpg',\n",
       " '02_[에스콰이아]30% 에스콰이아 가을준비 F,W 가방 (숄더백,토트,미니백외)_1.jpg',\n",
       " '02_[투투삭스]균일가 착용감 좋은 양말,발목,중목,패션,학생_2.jpg',\n",
       " '02_가을 신상 은침귀걸이 우영우 고래귀걸이 원터치 링 스터드_5.jpg',\n",
       " '02_보가 가을신상 슬링백,블로퍼,펌프스,스니커즈_3.jpg',\n",
       " '03_[맥퀸뉴욕]1+1 워터 벨벳 픽싱틴트 촉촉한 수분 블러링틴트 외 아이라이너아이브로우멀티밤~75%_1.jpg',\n",
       " '03_[맥퀸뉴욕]UV쉴드 자외선차단 선패치 골프패치 선크림 외 아이라이너,아이브로우,멀티밤~75%_2.jpg',\n",
       " '03_[에뛰드]에뛰드 개강한세일 UPTO 55%_4.jpg',\n",
       " '03_[에바스]로에랑스 퍼퓸 바디미스트,샤워코롱 250ml(+행사중)_5.jpg',\n",
       " '03_[우르오스][우르오스] 스킨워시 500ml x 2개_3.jpg',\n",
       " '03_[이니스프리](50%+10%) 전품목 빅세일+클렌징폼 선크림 핸드크림 반값_1.jpg',\n",
       " '04_[버블트리]주니어 여아 가을 인기 스쿨룩  상하세트 팬츠 맨투맨 원피스 레깅스_1.jpg',\n",
       " '04_[버블트리]주니어 여아 가을 인기 스쿨룩  상하세트 팬츠 맨투맨 원피스 레깅스_3.jpg',\n",
       " '04_[베베앙]베베앙 아기물티슈  시그니처 대용량 100매 캡형 10팩_2.jpg',\n",
       " '04_[슈퍼대디]아기물티슈  엑셀런트 82 아기물티슈 캡형 70매 20팩_4.jpg',\n",
       " '04_[알로앤루]12%중복쿠폰 알로 알퐁소 가을신상오픈_1.jpg',\n",
       " '04_[키스포]15% 아동 주니어 가을 신상 특가 SALE 팬츠,맨투맨,레깅스_5.jpg',\n",
       " 'category_num1_[logo]_너의지금 20%쿠폰 신상니트 가디건롱세트가을신상크롭박스루즈핏긴팔.jpg',\n",
       " 'category_num1_너의지금 20%쿠폰 신상니트 가디건롱세트가을신상크롭박스루즈핏긴팔.jpg',\n",
       " 'category_num1_모노시크가을신상 티셔츠맨투맨후드니트블라우스셔츠남방가디건세트팬츠스커트데일리룩.jpg',\n",
       " 'category_num1_쇼인더룸 가을신상할인 티셔츠세트팬츠빅사이즈.jpg',\n",
       " 'category_num1_제이프랑 가을신상 티셔츠팬츠긴팔셋업.jpg',\n",
       " 'category_num1_패션라인 가을신상 원피스니트맨투맨셔츠팬츠청바지자켓데님세트상품.jpg',\n",
       " 'category_num2_[에스콰이아]30% 에스콰이아 가을준비 FW 가방 (숄더백토트미니백외).jpg',\n",
       " 'category_num2_[투투삭스]균일가 착용감 좋은 양말발목중목패션학생.jpg',\n",
       " 'category_num2_가을 신상 은침귀걸이 우영우 고래귀걸이 원터치 링 스터드.jpg',\n",
       " 'category_num2_보가 가을신상 슬링백블로퍼펌프스스니커즈.jpg',\n",
       " 'category_num3_[에뛰드]에뛰드 개강한세일 UPTO 55%.jpg',\n",
       " 'category_num3_[에바스]로에랑스 퍼퓸 바디미스트샤워코롱 250ml(+행사중).jpg',\n",
       " 'category_num3_[우르오스][우르오스] 스킨워시 500ml x 2개 (914  스킨로션 15ml + 스킨밀크 15ml 증정).jpg',\n",
       " 'category_num3_[이니스프리](50%+10%) 전품목 빅세일+클렌징폼 선크림 핸드크림 반값.jpg',\n",
       " 'category_num4_(할인특가) 인북 - 브레인 병풍차트 (12가지 주제) ',\n",
       " 'category_num4_[베베앙]베베앙 아기물티슈  시그니처 대용량 100매 캡형 10팩.jpg',\n",
       " 'category_num4_[슈퍼대디]아기물티슈  엑셀런트 82 아기물티슈 캡형 70매 20팩.jpg',\n",
       " 'category_num4_[알로앤루]12%중복쿠폰 알로 알퐁소 가을신상오픈.jpg',\n",
       " 'img1.jpg',\n",
       " 'img1_쇼인더룸 가을신상할인 티셔츠세트팬츠빅사이즈.jpg',\n",
       " 'img2.jpg',\n",
       " 'img2_모노시크가을신상 티셔츠맨투맨후드니트블라우스셔츠남방가디건세트팬츠스커트데일리룩.jpg',\n",
       " 'img3.jpg',\n",
       " 'img3_너의지금 20%쿠폰 신상니트 가디건롱세트가을신상크롭박스루즈핏긴팔.jpg',\n",
       " 'img4.jpg',\n",
       " 'img4_패션라인 가을신상 원피스니트맨투맨셔츠팬츠청바지자켓데님세트상품.jpg',\n",
       " 'img5.jpg',\n",
       " 'img5_제이프랑 가을신상 티셔츠팬츠긴팔셋업.jpg',\n",
       " '[지오다노]지오다노 FW 베스트 아우터 + 간절기 아이템 ~60%.jpg',\n",
       " '모노시크,가을신상 티셔츠,맨투맨,후드,니트,블라우스,셔츠,남방,가디건,세트,팬츠,스커트,데일리룩.jpg',\n",
       " '쇼인더룸 가을신상할인 티셔츠,세트,팬츠,빅사이즈.jpg',\n",
       " '제이프랑 가을신상 티셔츠,팬츠,긴팔,셋업.jpg',\n",
       " '패션라인 가을신상 원피스,니트,맨투맨,셔츠,팬츠,청바지,자켓,데님,세트상품.jpg']"
      ]
     },
     "execution_count": 22,
     "metadata": {},
     "output_type": "execute_result"
    }
   ],
   "source": [
    "import os\n",
    "path_dir='./image/crawl'\n",
    "fileList=os.listdir(path_dir)\n",
    "fileList"
   ]
  },
  {
   "cell_type": "markdown",
   "metadata": {},
   "source": [
    "## 카테고리별 1등 파일에만 1등 로고합성하기"
   ]
  },
  {
   "cell_type": "code",
   "execution_count": 23,
   "metadata": {},
   "outputs": [
    {
     "data": {
      "text/plain": [
       "['01_너의지금 20%쿠폰 신상니트 가디건,롱,세트,가을신상,크롭,박스,루즈핏,긴팔_1.jpg',\n",
       " '02_[디즈니]슈라모드디즈니 외 FW 1+1단품 거실화 털슬리퍼_1.jpg',\n",
       " '02_[에스콰이아]30% 에스콰이아 가을준비 F,W 가방 (숄더백,토트,미니백외)_1.jpg',\n",
       " '03_[맥퀸뉴욕]1+1 워터 벨벳 픽싱틴트 촉촉한 수분 블러링틴트 외 아이라이너아이브로우멀티밤~75%_1.jpg',\n",
       " '03_[이니스프리](50%+10%) 전품목 빅세일+클렌징폼 선크림 핸드크림 반값_1.jpg',\n",
       " '04_[버블트리]주니어 여아 가을 인기 스쿨룩  상하세트 팬츠 맨투맨 원피스 레깅스_1.jpg',\n",
       " '04_[알로앤루]12%중복쿠폰 알로 알퐁소 가을신상오픈_1.jpg',\n",
       " 'img1.jpg']"
      ]
     },
     "execution_count": 23,
     "metadata": {},
     "output_type": "execute_result"
    }
   ],
   "source": [
    "\n",
    "flist=[]\n",
    "for find in fileList:\n",
    "    if '1.jpg' in find:\n",
    "        flist.append(find)\n",
    "flist\n"
   ]
  },
  {
   "cell_type": "code",
   "execution_count": 24,
   "metadata": {},
   "outputs": [],
   "source": [
    "from PIL import Image\n",
    "\n",
    "for n in range(len(flist)):\n",
    "    logo=Image.open('./image/top.png')\n",
    "    # print(logo.size)\n",
    "\n",
    "    p=Image.open('./image/crawl/'+flist[n])\n",
    "\n",
    "    area=(0,0,logo.width,logo.height)\n",
    "\n",
    "    p.paste(logo,area,logo)\n",
    "\n",
    "    p.save('[logo]_'+flist[n])\n",
    "    p.close()\n",
    "    logo.close()"
   ]
  },
  {
   "cell_type": "code",
   "execution_count": null,
   "metadata": {},
   "outputs": [],
   "source": []
  },
  {
   "cell_type": "code",
   "execution_count": null,
   "metadata": {},
   "outputs": [],
   "source": []
  },
  {
   "cell_type": "code",
   "execution_count": null,
   "metadata": {},
   "outputs": [],
   "source": []
  }
 ],
 "metadata": {
  "kernelspec": {
   "display_name": "Python 3.9.13 64-bit",
   "language": "python",
   "name": "python3"
  },
  "language_info": {
   "codemirror_mode": {
    "name": "ipython",
    "version": 3
   },
   "file_extension": ".py",
   "mimetype": "text/x-python",
   "name": "python",
   "nbconvert_exporter": "python",
   "pygments_lexer": "ipython3",
   "version": "3.9.13"
  },
  "toc": {
   "base_numbering": 1,
   "nav_menu": {},
   "number_sections": true,
   "sideBar": true,
   "skip_h1_title": false,
   "title_cell": "Table of Contents",
   "title_sidebar": "Contents",
   "toc_cell": false,
   "toc_position": {
    "height": "calc(100% - 180px)",
    "left": "10px",
    "top": "150px",
    "width": "284.2px"
   },
   "toc_section_display": true,
   "toc_window_display": false
  },
  "varInspector": {
   "cols": {
    "lenName": 16,
    "lenType": 16,
    "lenVar": 40
   },
   "kernels_config": {
    "python": {
     "delete_cmd_postfix": "",
     "delete_cmd_prefix": "del ",
     "library": "var_list.py",
     "varRefreshCmd": "print(var_dic_list())"
    },
    "r": {
     "delete_cmd_postfix": ") ",
     "delete_cmd_prefix": "rm(",
     "library": "var_list.r",
     "varRefreshCmd": "cat(var_dic_list()) "
    }
   },
   "position": {
    "height": "496.4px",
    "left": "1173px",
    "right": "20px",
    "top": "146px",
    "width": "350px"
   },
   "types_to_exclude": [
    "module",
    "function",
    "builtin_function_or_method",
    "instance",
    "_Feature"
   ],
   "window_display": false
  },
  "vscode": {
   "interpreter": {
    "hash": "79f9610dfcdf37bce263f4933389e2031b36e479845ae91d4b3fe6b2e8ac4382"
   }
  }
 },
 "nbformat": 4,
 "nbformat_minor": 4
}
