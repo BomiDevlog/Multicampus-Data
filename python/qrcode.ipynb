{
  "nbformat": 4,
  "nbformat_minor": 0,
  "metadata": {
    "colab": {
      "private_outputs": true,
      "provenance": []
    },
    "kernelspec": {
      "name": "python3",
      "display_name": "Python 3"
    },
    "language_info": {
      "name": "python"
    }
  },
  "cells": [
    {
      "cell_type": "markdown",
      "source": [
        "[참고링크]\n",
        "https://pypi.org/project/qrcode/"
      ],
      "metadata": {
        "id": "FvRq5u_rojZu"
      }
    },
    {
      "cell_type": "code",
      "execution_count": null,
      "metadata": {
        "id": "Oj9HHy_ciBfd"
      },
      "outputs": [],
      "source": [
        "!pip install qrcode[pil]"
      ]
    },
    {
      "cell_type": "markdown",
      "source": [
        "# 라이브러리 로드"
      ],
      "metadata": {
        "id": "A97gmelOoOe9"
      }
    },
    {
      "cell_type": "code",
      "source": [
        "import qrcode"
      ],
      "metadata": {
        "id": "qCBqkRRNmGAW"
      },
      "execution_count": null,
      "outputs": []
    },
    {
      "cell_type": "code",
      "source": [
        "dir(qrcode)"
      ],
      "metadata": {
        "id": "JaATuQ25qbQV"
      },
      "execution_count": null,
      "outputs": []
    },
    {
      "cell_type": "markdown",
      "source": [
        "# qrcode 만들기"
      ],
      "metadata": {
        "id": "EmkFOOnmoWpG"
      }
    },
    {
      "cell_type": "code",
      "source": [
        "import qrcode\n",
        "img = qrcode.make('www.naver.com')\n",
        "img\n"
      ],
      "metadata": {
        "id": "3s-pqbB6oSmd"
      },
      "execution_count": null,
      "outputs": []
    },
    {
      "cell_type": "code",
      "source": [
        "img = qrcode.make('www.youtube.com')\n",
        "img"
      ],
      "metadata": {
        "id": "g1cXakBmpmDN"
      },
      "execution_count": null,
      "outputs": []
    },
    {
      "cell_type": "code",
      "source": [
        "type(img)  # qrcode.image.pil.PilImage"
      ],
      "metadata": {
        "id": "CM4FNHXEpy_t"
      },
      "execution_count": null,
      "outputs": []
    },
    {
      "cell_type": "code",
      "source": [
        "\n",
        "img.save(\"youtube_qr.png\")"
      ],
      "metadata": {
        "id": "LFoJeOqKo5Ud"
      },
      "execution_count": null,
      "outputs": []
    },
    {
      "cell_type": "code",
      "source": [],
      "metadata": {
        "id": "nwVddYoyqEH9"
      },
      "execution_count": null,
      "outputs": []
    }
  ]
}